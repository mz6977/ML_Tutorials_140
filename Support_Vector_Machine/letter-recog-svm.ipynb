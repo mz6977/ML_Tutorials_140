{
 "cells": [
  {
   "cell_type": "code",
   "execution_count": 1,
   "id": "42df59b8",
   "metadata": {
    "_cell_guid": "b1076dfc-b9ad-4769-8c92-a6c4dae69d19",
    "_uuid": "8f2839f25d086af736a60e9eeb907d3b93b6e0e5",
    "execution": {
     "iopub.execute_input": "2022-05-08T23:39:41.291046Z",
     "iopub.status.busy": "2022-05-08T23:39:41.290223Z",
     "iopub.status.idle": "2022-05-08T23:39:42.469229Z",
     "shell.execute_reply": "2022-05-08T23:39:42.468538Z"
    },
    "papermill": {
     "duration": 1.221646,
     "end_time": "2022-05-08T23:39:42.471491",
     "exception": false,
     "start_time": "2022-05-08T23:39:41.249845",
     "status": "completed"
    },
    "tags": []
   },
   "outputs": [
    {
     "name": "stdout",
     "output_type": "stream",
     "text": [
      "/kaggle/input/letterrecognition-using-svm/letter-recognition.csv\n"
     ]
    }
   ],
   "source": [
    "import numpy as np # linear algebra\n",
    "import pandas as pd # data processing, CSV file I/O (e.g. pd.read_csv)\n",
    "import matplotlib.pyplot as plt\n",
    "import seaborn as sns\n",
    "import os\n",
    "for dirname, _, filenames in os.walk('/kaggle/input'):\n",
    "    for filename in filenames:\n",
    "        print(os.path.join(dirname, filename))"
   ]
  },
  {
   "cell_type": "code",
   "execution_count": 2,
   "id": "d363faa1",
   "metadata": {
    "execution": {
     "iopub.execute_input": "2022-05-08T23:39:42.529465Z",
     "iopub.status.busy": "2022-05-08T23:39:42.528989Z",
     "iopub.status.idle": "2022-05-08T23:40:19.573628Z",
     "shell.execute_reply": "2022-05-08T23:40:19.572508Z"
    },
    "papermill": {
     "duration": 37.076328,
     "end_time": "2022-05-08T23:40:19.576181",
     "exception": false,
     "start_time": "2022-05-08T23:39:42.499853",
     "status": "completed"
    },
    "tags": []
   },
   "outputs": [
    {
     "name": "stdout",
     "output_type": "stream",
     "text": [
      "Requirement already satisfied: tensorflow in /opt/conda/lib/python3.7/site-packages (2.6.3)\r\n",
      "Requirement already satisfied: termcolor~=1.1.0 in /opt/conda/lib/python3.7/site-packages (from tensorflow) (1.1.0)\r\n",
      "Requirement already satisfied: opt-einsum~=3.3.0 in /opt/conda/lib/python3.7/site-packages (from tensorflow) (3.3.0)\r\n",
      "Requirement already satisfied: astunparse~=1.6.3 in /opt/conda/lib/python3.7/site-packages (from tensorflow) (1.6.3)\r\n",
      "Requirement already satisfied: tensorboard<2.7,>=2.6.0 in /opt/conda/lib/python3.7/site-packages (from tensorflow) (2.6.0)\r\n",
      "Requirement already satisfied: protobuf>=3.9.2 in /opt/conda/lib/python3.7/site-packages (from tensorflow) (3.19.4)\r\n",
      "Requirement already satisfied: h5py~=3.1.0 in /opt/conda/lib/python3.7/site-packages (from tensorflow) (3.1.0)\r\n",
      "Collecting numpy~=1.19.2\r\n",
      "  Downloading numpy-1.19.5-cp37-cp37m-manylinux2010_x86_64.whl (14.8 MB)\r\n",
      "\u001b[2K     \u001b[90m━━━━━━━━━━━━━━━━━━━━━━━━━━━━━━━━━━━━━━━━\u001b[0m \u001b[32m14.8/14.8 MB\u001b[0m \u001b[31m51.3 MB/s\u001b[0m eta \u001b[36m0:00:00\u001b[0m\r\n",
      "\u001b[?25hCollecting absl-py~=0.10\r\n",
      "  Downloading absl_py-0.15.0-py3-none-any.whl (132 kB)\r\n",
      "\u001b[2K     \u001b[90m━━━━━━━━━━━━━━━━━━━━━━━━━━━━━━━━━━━━━━━\u001b[0m \u001b[32m132.0/132.0 KB\u001b[0m \u001b[31m9.3 MB/s\u001b[0m eta \u001b[36m0:00:00\u001b[0m\r\n",
      "\u001b[?25hRequirement already satisfied: keras-preprocessing~=1.1.2 in /opt/conda/lib/python3.7/site-packages (from tensorflow) (1.1.2)\r\n",
      "Requirement already satisfied: gast==0.4.0 in /opt/conda/lib/python3.7/site-packages (from tensorflow) (0.4.0)\r\n",
      "Collecting wrapt~=1.12.1\r\n",
      "  Downloading wrapt-1.12.1.tar.gz (27 kB)\r\n",
      "  Preparing metadata (setup.py) ... \u001b[?25l-\b \bdone\r\n",
      "\u001b[?25hRequirement already satisfied: google-pasta~=0.2 in /opt/conda/lib/python3.7/site-packages (from tensorflow) (0.2.0)\r\n",
      "Collecting six~=1.15.0\r\n",
      "  Downloading six-1.15.0-py2.py3-none-any.whl (10 kB)\r\n",
      "Requirement already satisfied: wheel~=0.35 in /opt/conda/lib/python3.7/site-packages (from tensorflow) (0.37.1)\r\n",
      "Requirement already satisfied: flatbuffers~=1.12.0 in /opt/conda/lib/python3.7/site-packages (from tensorflow) (1.12)\r\n",
      "Collecting typing-extensions<3.11,>=3.7\r\n",
      "  Downloading typing_extensions-3.10.0.2-py3-none-any.whl (26 kB)\r\n",
      "Requirement already satisfied: grpcio<2.0,>=1.37.0 in /opt/conda/lib/python3.7/site-packages (from tensorflow) (1.43.0)\r\n",
      "Requirement already satisfied: keras<2.7,>=2.6.0 in /opt/conda/lib/python3.7/site-packages (from tensorflow) (2.6.0)\r\n",
      "Requirement already satisfied: clang~=5.0 in /opt/conda/lib/python3.7/site-packages (from tensorflow) (5.0)\r\n",
      "Requirement already satisfied: tensorflow-estimator<2.7,>=2.6.0 in /opt/conda/lib/python3.7/site-packages (from tensorflow) (2.6.0)\r\n",
      "Requirement already satisfied: cached-property in /opt/conda/lib/python3.7/site-packages (from h5py~=3.1.0->tensorflow) (1.5.2)\r\n",
      "Requirement already satisfied: setuptools>=41.0.0 in /opt/conda/lib/python3.7/site-packages (from tensorboard<2.7,>=2.6.0->tensorflow) (59.8.0)\r\n",
      "Requirement already satisfied: tensorboard-data-server<0.7.0,>=0.6.0 in /opt/conda/lib/python3.7/site-packages (from tensorboard<2.7,>=2.6.0->tensorflow) (0.6.1)\r\n",
      "Requirement already satisfied: google-auth<2,>=1.6.3 in /opt/conda/lib/python3.7/site-packages (from tensorboard<2.7,>=2.6.0->tensorflow) (1.35.0)\r\n",
      "Requirement already satisfied: werkzeug>=0.11.15 in /opt/conda/lib/python3.7/site-packages (from tensorboard<2.7,>=2.6.0->tensorflow) (2.0.3)\r\n",
      "Requirement already satisfied: tensorboard-plugin-wit>=1.6.0 in /opt/conda/lib/python3.7/site-packages (from tensorboard<2.7,>=2.6.0->tensorflow) (1.8.1)\r\n",
      "Requirement already satisfied: markdown>=2.6.8 in /opt/conda/lib/python3.7/site-packages (from tensorboard<2.7,>=2.6.0->tensorflow) (3.3.6)\r\n",
      "Requirement already satisfied: google-auth-oauthlib<0.5,>=0.4.1 in /opt/conda/lib/python3.7/site-packages (from tensorboard<2.7,>=2.6.0->tensorflow) (0.4.6)\r\n",
      "Requirement already satisfied: requests<3,>=2.21.0 in /opt/conda/lib/python3.7/site-packages (from tensorboard<2.7,>=2.6.0->tensorflow) (2.27.1)\r\n",
      "Requirement already satisfied: cachetools<5.0,>=2.0.0 in /opt/conda/lib/python3.7/site-packages (from google-auth<2,>=1.6.3->tensorboard<2.7,>=2.6.0->tensorflow) (4.2.4)\r\n",
      "Requirement already satisfied: rsa<5,>=3.1.4 in /opt/conda/lib/python3.7/site-packages (from google-auth<2,>=1.6.3->tensorboard<2.7,>=2.6.0->tensorflow) (4.8)\r\n",
      "Requirement already satisfied: pyasn1-modules>=0.2.1 in /opt/conda/lib/python3.7/site-packages (from google-auth<2,>=1.6.3->tensorboard<2.7,>=2.6.0->tensorflow) (0.2.7)\r\n",
      "Requirement already satisfied: requests-oauthlib>=0.7.0 in /opt/conda/lib/python3.7/site-packages (from google-auth-oauthlib<0.5,>=0.4.1->tensorboard<2.7,>=2.6.0->tensorflow) (1.3.1)\r\n",
      "Requirement already satisfied: importlib-metadata>=4.4 in /opt/conda/lib/python3.7/site-packages (from markdown>=2.6.8->tensorboard<2.7,>=2.6.0->tensorflow) (4.11.3)\r\n",
      "Requirement already satisfied: idna<4,>=2.5 in /opt/conda/lib/python3.7/site-packages (from requests<3,>=2.21.0->tensorboard<2.7,>=2.6.0->tensorflow) (3.3)\r\n",
      "Requirement already satisfied: charset-normalizer~=2.0.0 in /opt/conda/lib/python3.7/site-packages (from requests<3,>=2.21.0->tensorboard<2.7,>=2.6.0->tensorflow) (2.0.12)\r\n",
      "Requirement already satisfied: certifi>=2017.4.17 in /opt/conda/lib/python3.7/site-packages (from requests<3,>=2.21.0->tensorboard<2.7,>=2.6.0->tensorflow) (2021.10.8)\r\n",
      "Requirement already satisfied: urllib3<1.27,>=1.21.1 in /opt/conda/lib/python3.7/site-packages (from requests<3,>=2.21.0->tensorboard<2.7,>=2.6.0->tensorflow) (1.26.8)\r\n",
      "Requirement already satisfied: zipp>=0.5 in /opt/conda/lib/python3.7/site-packages (from importlib-metadata>=4.4->markdown>=2.6.8->tensorboard<2.7,>=2.6.0->tensorflow) (3.7.0)\r\n",
      "Requirement already satisfied: pyasn1<0.5.0,>=0.4.6 in /opt/conda/lib/python3.7/site-packages (from pyasn1-modules>=0.2.1->google-auth<2,>=1.6.3->tensorboard<2.7,>=2.6.0->tensorflow) (0.4.8)\r\n",
      "Requirement already satisfied: oauthlib>=3.0.0 in /opt/conda/lib/python3.7/site-packages (from requests-oauthlib>=0.7.0->google-auth-oauthlib<0.5,>=0.4.1->tensorboard<2.7,>=2.6.0->tensorflow) (3.2.0)\r\n",
      "Building wheels for collected packages: wrapt\r\n",
      "  Building wheel for wrapt (setup.py) ... \u001b[?25l-\b \b\\\b \b|\b \bdone\r\n",
      "\u001b[?25h  Created wheel for wrapt: filename=wrapt-1.12.1-cp37-cp37m-linux_x86_64.whl size=77065 sha256=31de5317b94c05023cf508e375452a1dd0a379facc8f6291b9c110c7581d1cac\r\n",
      "  Stored in directory: /root/.cache/pip/wheels/62/76/4c/aa25851149f3f6d9785f6c869387ad82b3fd37582fa8147ac6\r\n",
      "Successfully built wrapt\r\n",
      "Installing collected packages: wrapt, typing-extensions, six, numpy, absl-py\r\n",
      "  Attempting uninstall: wrapt\r\n",
      "    Found existing installation: wrapt 1.14.0\r\n",
      "    Uninstalling wrapt-1.14.0:\r\n",
      "      Successfully uninstalled wrapt-1.14.0\r\n",
      "  Attempting uninstall: typing-extensions\r\n",
      "    Found existing installation: typing_extensions 4.2.0\r\n",
      "    Uninstalling typing_extensions-4.2.0:\r\n",
      "      Successfully uninstalled typing_extensions-4.2.0\r\n",
      "  Attempting uninstall: six\r\n",
      "    Found existing installation: six 1.16.0\r\n",
      "    Uninstalling six-1.16.0:\r\n",
      "      Successfully uninstalled six-1.16.0\r\n",
      "  Attempting uninstall: numpy\r\n",
      "    Found existing installation: numpy 1.21.6\r\n",
      "    Uninstalling numpy-1.21.6:\r\n",
      "      Successfully uninstalled numpy-1.21.6\r\n",
      "  Attempting uninstall: absl-py\r\n",
      "    Found existing installation: absl-py 1.0.0\r\n",
      "    Uninstalling absl-py-1.0.0:\r\n",
      "      Successfully uninstalled absl-py-1.0.0\r\n",
      "\u001b[31mERROR: pip's dependency resolver does not currently take into account all the packages that are installed. This behaviour is the source of the following dependency conflicts.\r\n",
      "tensorflow-io 0.21.0 requires tensorflow-io-gcs-filesystem==0.21.0, which is not installed.\r\n",
      "beatrix-jupyterlab 3.1.7 requires google-cloud-bigquery-storage, which is not installed.\r\n",
      "tfx-bsl 1.7.0 requires pyarrow<6,>=1, but you have pyarrow 7.0.0 which is incompatible.\r\n",
      "tfx-bsl 1.7.0 requires tensorflow!=2.0.*,!=2.1.*,!=2.2.*,!=2.3.*,!=2.4.*,!=2.5.*,!=2.6.*,!=2.7.*,<3,>=1.15.5, but you have tensorflow 2.6.3 which is incompatible.\r\n",
      "tensorflow-transform 1.7.0 requires pyarrow<6,>=1, but you have pyarrow 7.0.0 which is incompatible.\r\n",
      "tensorflow-transform 1.7.0 requires tensorflow!=2.0.*,!=2.1.*,!=2.2.*,!=2.3.*,!=2.4.*,!=2.5.*,!=2.6.*,!=2.7.*,<2.9,>=1.15.5, but you have tensorflow 2.6.3 which is incompatible.\r\n",
      "tensorflow-serving-api 2.8.0 requires tensorflow<3,>=2.8.0, but you have tensorflow 2.6.3 which is incompatible.\r\n",
      "rich 12.2.0 requires typing-extensions<5.0,>=4.0.0; python_version < \"3.9\", but you have typing-extensions 3.10.0.2 which is incompatible.\r\n",
      "pytorch-lightning 1.6.1 requires typing-extensions>=4.0.0, but you have typing-extensions 3.10.0.2 which is incompatible.\r\n",
      "pdpbox 0.2.1 requires matplotlib==3.1.1, but you have matplotlib 3.5.1 which is incompatible.\r\n",
      "imageio 2.16.1 requires numpy>=1.20.0, but you have numpy 1.19.5 which is incompatible.\r\n",
      "grpcio-status 1.44.0 requires grpcio>=1.44.0, but you have grpcio 1.43.0 which is incompatible.\r\n",
      "google-cloud-aiplatform 0.6.0a1 requires google-cloud-storage<2.0.0dev,>=1.26.0, but you have google-cloud-storage 2.1.0 which is incompatible.\r\n",
      "gcsfs 2022.2.0 requires fsspec==2022.02.0, but you have fsspec 2022.3.0 which is incompatible.\r\n",
      "flake8 4.0.1 requires importlib-metadata<4.3; python_version < \"3.8\", but you have importlib-metadata 4.11.3 which is incompatible.\r\n",
      "featuretools 1.8.0 requires numpy>=1.21.0, but you have numpy 1.19.5 which is incompatible.\r\n",
      "cloud-tpu-client 0.10 requires google-api-python-client==1.8.0, but you have google-api-python-client 1.12.11 which is incompatible.\r\n",
      "apache-beam 2.37.0 requires dill<0.3.2,>=0.3.1.1, but you have dill 0.3.4 which is incompatible.\r\n",
      "apache-beam 2.37.0 requires httplib2<0.20.0,>=0.8, but you have httplib2 0.20.4 which is incompatible.\r\n",
      "apache-beam 2.37.0 requires pyarrow<7.0.0,>=0.15.1, but you have pyarrow 7.0.0 which is incompatible.\r\n",
      "aioitertools 0.10.0 requires typing_extensions>=4.0; python_version < \"3.10\", but you have typing-extensions 3.10.0.2 which is incompatible.\r\n",
      "aiobotocore 2.2.0 requires botocore<1.24.22,>=1.24.21, but you have botocore 1.25.0 which is incompatible.\u001b[0m\u001b[31m\r\n",
      "\u001b[0mSuccessfully installed absl-py-0.15.0 numpy-1.19.5 six-1.15.0 typing-extensions-3.10.0.2 wrapt-1.12.1\r\n",
      "\u001b[33mWARNING: Running pip as the 'root' user can result in broken permissions and conflicting behaviour with the system package manager. It is recommended to use a virtual environment instead: https://pip.pypa.io/warnings/venv\u001b[0m\u001b[33m\r\n",
      "\u001b[0mNote: you may need to restart the kernel to use updated packages.\n"
     ]
    }
   ],
   "source": [
    "pip install tensorflow"
   ]
  },
  {
   "cell_type": "code",
   "execution_count": 3,
   "id": "4f4a906c",
   "metadata": {
    "execution": {
     "iopub.execute_input": "2022-05-08T23:40:19.664332Z",
     "iopub.status.busy": "2022-05-08T23:40:19.663985Z",
     "iopub.status.idle": "2022-05-08T23:40:25.285672Z",
     "shell.execute_reply": "2022-05-08T23:40:25.284578Z"
    },
    "papermill": {
     "duration": 5.669417,
     "end_time": "2022-05-08T23:40:25.288621",
     "exception": false,
     "start_time": "2022-05-08T23:40:19.619204",
     "status": "completed"
    },
    "tags": []
   },
   "outputs": [],
   "source": [
    "from tensorflow.keras import models, layers, utils, backend as K\n",
    "from tensorflow.keras import layers, callbacks"
   ]
  },
  {
   "cell_type": "code",
   "execution_count": 4,
   "id": "58e89469",
   "metadata": {
    "execution": {
     "iopub.execute_input": "2022-05-08T23:40:25.380763Z",
     "iopub.status.busy": "2022-05-08T23:40:25.380455Z",
     "iopub.status.idle": "2022-05-08T23:40:25.453087Z",
     "shell.execute_reply": "2022-05-08T23:40:25.452245Z"
    },
    "papermill": {
     "duration": 0.123768,
     "end_time": "2022-05-08T23:40:25.455659",
     "exception": false,
     "start_time": "2022-05-08T23:40:25.331891",
     "status": "completed"
    },
    "tags": []
   },
   "outputs": [
    {
     "data": {
      "text/html": [
       "<div>\n",
       "<style scoped>\n",
       "    .dataframe tbody tr th:only-of-type {\n",
       "        vertical-align: middle;\n",
       "    }\n",
       "\n",
       "    .dataframe tbody tr th {\n",
       "        vertical-align: top;\n",
       "    }\n",
       "\n",
       "    .dataframe thead th {\n",
       "        text-align: right;\n",
       "    }\n",
       "</style>\n",
       "<table border=\"1\" class=\"dataframe\">\n",
       "  <thead>\n",
       "    <tr style=\"text-align: right;\">\n",
       "      <th></th>\n",
       "      <th>letter</th>\n",
       "      <th>xbox</th>\n",
       "      <th>ybox</th>\n",
       "      <th>width</th>\n",
       "      <th>height</th>\n",
       "      <th>onpix</th>\n",
       "      <th>xbar</th>\n",
       "      <th>ybar</th>\n",
       "      <th>x2bar</th>\n",
       "      <th>y2bar</th>\n",
       "      <th>xybar</th>\n",
       "      <th>x2ybar</th>\n",
       "      <th>xy2bar</th>\n",
       "      <th>xedge</th>\n",
       "      <th>xedgey</th>\n",
       "      <th>yedge</th>\n",
       "      <th>yedgex</th>\n",
       "    </tr>\n",
       "  </thead>\n",
       "  <tbody>\n",
       "    <tr>\n",
       "      <th>0</th>\n",
       "      <td>T</td>\n",
       "      <td>2</td>\n",
       "      <td>8</td>\n",
       "      <td>3</td>\n",
       "      <td>5</td>\n",
       "      <td>1</td>\n",
       "      <td>8</td>\n",
       "      <td>13</td>\n",
       "      <td>0</td>\n",
       "      <td>6</td>\n",
       "      <td>6</td>\n",
       "      <td>10</td>\n",
       "      <td>8</td>\n",
       "      <td>0</td>\n",
       "      <td>8</td>\n",
       "      <td>0</td>\n",
       "      <td>8</td>\n",
       "    </tr>\n",
       "    <tr>\n",
       "      <th>1</th>\n",
       "      <td>I</td>\n",
       "      <td>5</td>\n",
       "      <td>12</td>\n",
       "      <td>3</td>\n",
       "      <td>7</td>\n",
       "      <td>2</td>\n",
       "      <td>10</td>\n",
       "      <td>5</td>\n",
       "      <td>5</td>\n",
       "      <td>4</td>\n",
       "      <td>13</td>\n",
       "      <td>3</td>\n",
       "      <td>9</td>\n",
       "      <td>2</td>\n",
       "      <td>8</td>\n",
       "      <td>4</td>\n",
       "      <td>10</td>\n",
       "    </tr>\n",
       "    <tr>\n",
       "      <th>2</th>\n",
       "      <td>D</td>\n",
       "      <td>4</td>\n",
       "      <td>11</td>\n",
       "      <td>6</td>\n",
       "      <td>8</td>\n",
       "      <td>6</td>\n",
       "      <td>10</td>\n",
       "      <td>6</td>\n",
       "      <td>2</td>\n",
       "      <td>6</td>\n",
       "      <td>10</td>\n",
       "      <td>3</td>\n",
       "      <td>7</td>\n",
       "      <td>3</td>\n",
       "      <td>7</td>\n",
       "      <td>3</td>\n",
       "      <td>9</td>\n",
       "    </tr>\n",
       "    <tr>\n",
       "      <th>3</th>\n",
       "      <td>N</td>\n",
       "      <td>7</td>\n",
       "      <td>11</td>\n",
       "      <td>6</td>\n",
       "      <td>6</td>\n",
       "      <td>3</td>\n",
       "      <td>5</td>\n",
       "      <td>9</td>\n",
       "      <td>4</td>\n",
       "      <td>6</td>\n",
       "      <td>4</td>\n",
       "      <td>4</td>\n",
       "      <td>10</td>\n",
       "      <td>6</td>\n",
       "      <td>10</td>\n",
       "      <td>2</td>\n",
       "      <td>8</td>\n",
       "    </tr>\n",
       "    <tr>\n",
       "      <th>4</th>\n",
       "      <td>G</td>\n",
       "      <td>2</td>\n",
       "      <td>1</td>\n",
       "      <td>3</td>\n",
       "      <td>1</td>\n",
       "      <td>1</td>\n",
       "      <td>8</td>\n",
       "      <td>6</td>\n",
       "      <td>6</td>\n",
       "      <td>6</td>\n",
       "      <td>6</td>\n",
       "      <td>5</td>\n",
       "      <td>9</td>\n",
       "      <td>1</td>\n",
       "      <td>7</td>\n",
       "      <td>5</td>\n",
       "      <td>10</td>\n",
       "    </tr>\n",
       "    <tr>\n",
       "      <th>5</th>\n",
       "      <td>S</td>\n",
       "      <td>4</td>\n",
       "      <td>11</td>\n",
       "      <td>5</td>\n",
       "      <td>8</td>\n",
       "      <td>3</td>\n",
       "      <td>8</td>\n",
       "      <td>8</td>\n",
       "      <td>6</td>\n",
       "      <td>9</td>\n",
       "      <td>5</td>\n",
       "      <td>6</td>\n",
       "      <td>6</td>\n",
       "      <td>0</td>\n",
       "      <td>8</td>\n",
       "      <td>9</td>\n",
       "      <td>7</td>\n",
       "    </tr>\n",
       "    <tr>\n",
       "      <th>6</th>\n",
       "      <td>B</td>\n",
       "      <td>4</td>\n",
       "      <td>2</td>\n",
       "      <td>5</td>\n",
       "      <td>4</td>\n",
       "      <td>4</td>\n",
       "      <td>8</td>\n",
       "      <td>7</td>\n",
       "      <td>6</td>\n",
       "      <td>6</td>\n",
       "      <td>7</td>\n",
       "      <td>6</td>\n",
       "      <td>6</td>\n",
       "      <td>2</td>\n",
       "      <td>8</td>\n",
       "      <td>7</td>\n",
       "      <td>10</td>\n",
       "    </tr>\n",
       "    <tr>\n",
       "      <th>7</th>\n",
       "      <td>A</td>\n",
       "      <td>1</td>\n",
       "      <td>1</td>\n",
       "      <td>3</td>\n",
       "      <td>2</td>\n",
       "      <td>1</td>\n",
       "      <td>8</td>\n",
       "      <td>2</td>\n",
       "      <td>2</td>\n",
       "      <td>2</td>\n",
       "      <td>8</td>\n",
       "      <td>2</td>\n",
       "      <td>8</td>\n",
       "      <td>1</td>\n",
       "      <td>6</td>\n",
       "      <td>2</td>\n",
       "      <td>7</td>\n",
       "    </tr>\n",
       "    <tr>\n",
       "      <th>8</th>\n",
       "      <td>J</td>\n",
       "      <td>2</td>\n",
       "      <td>2</td>\n",
       "      <td>4</td>\n",
       "      <td>4</td>\n",
       "      <td>2</td>\n",
       "      <td>10</td>\n",
       "      <td>6</td>\n",
       "      <td>2</td>\n",
       "      <td>6</td>\n",
       "      <td>12</td>\n",
       "      <td>4</td>\n",
       "      <td>8</td>\n",
       "      <td>1</td>\n",
       "      <td>6</td>\n",
       "      <td>1</td>\n",
       "      <td>7</td>\n",
       "    </tr>\n",
       "    <tr>\n",
       "      <th>9</th>\n",
       "      <td>M</td>\n",
       "      <td>11</td>\n",
       "      <td>15</td>\n",
       "      <td>13</td>\n",
       "      <td>9</td>\n",
       "      <td>7</td>\n",
       "      <td>13</td>\n",
       "      <td>2</td>\n",
       "      <td>6</td>\n",
       "      <td>2</td>\n",
       "      <td>12</td>\n",
       "      <td>1</td>\n",
       "      <td>9</td>\n",
       "      <td>8</td>\n",
       "      <td>1</td>\n",
       "      <td>1</td>\n",
       "      <td>8</td>\n",
       "    </tr>\n",
       "  </tbody>\n",
       "</table>\n",
       "</div>"
      ],
      "text/plain": [
       "  letter  xbox   ybox   width   height  onpix   xbar   ybar   x2bar  y2bar   \\\n",
       "0      T      2      8       3       5       1      8     13      0       6   \n",
       "1      I      5     12       3       7       2     10      5      5       4   \n",
       "2      D      4     11       6       8       6     10      6      2       6   \n",
       "3      N      7     11       6       6       3      5      9      4       6   \n",
       "4      G      2      1       3       1       1      8      6      6       6   \n",
       "5      S      4     11       5       8       3      8      8      6       9   \n",
       "6      B      4      2       5       4       4      8      7      6       6   \n",
       "7      A      1      1       3       2       1      8      2      2       2   \n",
       "8      J      2      2       4       4       2     10      6      2       6   \n",
       "9      M     11     15      13       9       7     13      2      6       2   \n",
       "\n",
       "   xybar   x2ybar  xy2bar  xedge   xedgey  yedge   yedgex  \n",
       "0       6      10       8       0       8       0       8  \n",
       "1      13       3       9       2       8       4      10  \n",
       "2      10       3       7       3       7       3       9  \n",
       "3       4       4      10       6      10       2       8  \n",
       "4       6       5       9       1       7       5      10  \n",
       "5       5       6       6       0       8       9       7  \n",
       "6       7       6       6       2       8       7      10  \n",
       "7       8       2       8       1       6       2       7  \n",
       "8      12       4       8       1       6       1       7  \n",
       "9      12       1       9       8       1       1       8  "
      ]
     },
     "execution_count": 4,
     "metadata": {},
     "output_type": "execute_result"
    }
   ],
   "source": [
    "df = pd.read_csv('/kaggle/input/letterrecognition-using-svm/letter-recognition.csv')\n",
    "df.head(10)"
   ]
  },
  {
   "cell_type": "code",
   "execution_count": 5,
   "id": "4f848918",
   "metadata": {
    "execution": {
     "iopub.execute_input": "2022-05-08T23:40:25.544338Z",
     "iopub.status.busy": "2022-05-08T23:40:25.544004Z",
     "iopub.status.idle": "2022-05-08T23:40:25.550285Z",
     "shell.execute_reply": "2022-05-08T23:40:25.549405Z"
    },
    "papermill": {
     "duration": 0.053565,
     "end_time": "2022-05-08T23:40:25.552704",
     "exception": false,
     "start_time": "2022-05-08T23:40:25.499139",
     "status": "completed"
    },
    "tags": []
   },
   "outputs": [
    {
     "data": {
      "text/plain": [
       "(20000, 17)"
      ]
     },
     "execution_count": 5,
     "metadata": {},
     "output_type": "execute_result"
    }
   ],
   "source": [
    "df.shape"
   ]
  },
  {
   "cell_type": "code",
   "execution_count": 6,
   "id": "9caec691",
   "metadata": {
    "execution": {
     "iopub.execute_input": "2022-05-08T23:40:25.643341Z",
     "iopub.status.busy": "2022-05-08T23:40:25.642704Z",
     "iopub.status.idle": "2022-05-08T23:40:25.649197Z",
     "shell.execute_reply": "2022-05-08T23:40:25.648402Z"
    },
    "papermill": {
     "duration": 0.055055,
     "end_time": "2022-05-08T23:40:25.651364",
     "exception": false,
     "start_time": "2022-05-08T23:40:25.596309",
     "status": "completed"
    },
    "tags": []
   },
   "outputs": [
    {
     "data": {
      "text/plain": [
       "Index(['letter', 'xbox ', 'ybox ', 'width ', 'height', 'onpix ', 'xbar ',\n",
       "       'ybar ', 'x2bar', 'y2bar ', 'xybar ', 'x2ybar', 'xy2bar', 'xedge ',\n",
       "       'xedgey', 'yedge ', 'yedgex'],\n",
       "      dtype='object')"
      ]
     },
     "execution_count": 6,
     "metadata": {},
     "output_type": "execute_result"
    }
   ],
   "source": [
    "df.columns"
   ]
  },
  {
   "cell_type": "code",
   "execution_count": 7,
   "id": "0a8130d9",
   "metadata": {
    "execution": {
     "iopub.execute_input": "2022-05-08T23:40:25.742121Z",
     "iopub.status.busy": "2022-05-08T23:40:25.741534Z",
     "iopub.status.idle": "2022-05-08T23:40:25.746879Z",
     "shell.execute_reply": "2022-05-08T23:40:25.746006Z"
    },
    "papermill": {
     "duration": 0.053282,
     "end_time": "2022-05-08T23:40:25.748969",
     "exception": false,
     "start_time": "2022-05-08T23:40:25.695687",
     "status": "completed"
    },
    "tags": []
   },
   "outputs": [],
   "source": [
    "# remove leading spaces from column names\n",
    "\n",
    "df.columns = df.columns.str.strip()"
   ]
  },
  {
   "cell_type": "code",
   "execution_count": 8,
   "id": "3a97297c",
   "metadata": {
    "execution": {
     "iopub.execute_input": "2022-05-08T23:40:25.840465Z",
     "iopub.status.busy": "2022-05-08T23:40:25.839928Z",
     "iopub.status.idle": "2022-05-08T23:40:25.857186Z",
     "shell.execute_reply": "2022-05-08T23:40:25.856362Z"
    },
    "papermill": {
     "duration": 0.065491,
     "end_time": "2022-05-08T23:40:25.859735",
     "exception": false,
     "start_time": "2022-05-08T23:40:25.794244",
     "status": "completed"
    },
    "tags": []
   },
   "outputs": [
    {
     "data": {
      "text/plain": [
       "U    813\n",
       "D    805\n",
       "P    803\n",
       "T    796\n",
       "M    792\n",
       "A    789\n",
       "X    787\n",
       "Y    786\n",
       "N    783\n",
       "Q    783\n",
       "F    775\n",
       "G    773\n",
       "E    768\n",
       "B    766\n",
       "V    764\n",
       "L    761\n",
       "R    758\n",
       "I    755\n",
       "O    753\n",
       "W    752\n",
       "S    748\n",
       "J    747\n",
       "K    739\n",
       "C    736\n",
       "H    734\n",
       "Z    734\n",
       "Name: letter, dtype: int64"
      ]
     },
     "execution_count": 8,
     "metadata": {},
     "output_type": "execute_result"
    }
   ],
   "source": [
    "df['letter'].value_counts()"
   ]
  },
  {
   "cell_type": "code",
   "execution_count": 9,
   "id": "ca30c331",
   "metadata": {
    "execution": {
     "iopub.execute_input": "2022-05-08T23:40:25.954295Z",
     "iopub.status.busy": "2022-05-08T23:40:25.953746Z",
     "iopub.status.idle": "2022-05-08T23:40:25.965461Z",
     "shell.execute_reply": "2022-05-08T23:40:25.964479Z"
    },
    "papermill": {
     "duration": 0.061856,
     "end_time": "2022-05-08T23:40:25.967581",
     "exception": false,
     "start_time": "2022-05-08T23:40:25.905725",
     "status": "completed"
    },
    "tags": []
   },
   "outputs": [
    {
     "data": {
      "text/plain": [
       "letter    0\n",
       "xbox      0\n",
       "ybox      0\n",
       "width     0\n",
       "height    0\n",
       "onpix     0\n",
       "xbar      0\n",
       "ybar      0\n",
       "x2bar     0\n",
       "y2bar     0\n",
       "xybar     0\n",
       "x2ybar    0\n",
       "xy2bar    0\n",
       "xedge     0\n",
       "xedgey    0\n",
       "yedge     0\n",
       "yedgex    0\n",
       "dtype: int64"
      ]
     },
     "execution_count": 9,
     "metadata": {},
     "output_type": "execute_result"
    }
   ],
   "source": [
    "df.isnull().sum()"
   ]
  },
  {
   "cell_type": "code",
   "execution_count": 10,
   "id": "8e594f08",
   "metadata": {
    "execution": {
     "iopub.execute_input": "2022-05-08T23:40:26.060773Z",
     "iopub.status.busy": "2022-05-08T23:40:26.059975Z",
     "iopub.status.idle": "2022-05-08T23:40:26.145653Z",
     "shell.execute_reply": "2022-05-08T23:40:26.144735Z"
    },
    "papermill": {
     "duration": 0.134838,
     "end_time": "2022-05-08T23:40:26.148032",
     "exception": false,
     "start_time": "2022-05-08T23:40:26.013194",
     "status": "completed"
    },
    "tags": []
   },
   "outputs": [
    {
     "data": {
      "text/html": [
       "<div>\n",
       "<style scoped>\n",
       "    .dataframe tbody tr th:only-of-type {\n",
       "        vertical-align: middle;\n",
       "    }\n",
       "\n",
       "    .dataframe tbody tr th {\n",
       "        vertical-align: top;\n",
       "    }\n",
       "\n",
       "    .dataframe thead th {\n",
       "        text-align: right;\n",
       "    }\n",
       "</style>\n",
       "<table border=\"1\" class=\"dataframe\">\n",
       "  <thead>\n",
       "    <tr style=\"text-align: right;\">\n",
       "      <th></th>\n",
       "      <th>xbox</th>\n",
       "      <th>ybox</th>\n",
       "      <th>width</th>\n",
       "      <th>height</th>\n",
       "      <th>onpix</th>\n",
       "      <th>xbar</th>\n",
       "      <th>ybar</th>\n",
       "      <th>x2bar</th>\n",
       "      <th>y2bar</th>\n",
       "      <th>xybar</th>\n",
       "      <th>x2ybar</th>\n",
       "      <th>xy2bar</th>\n",
       "      <th>xedge</th>\n",
       "      <th>xedgey</th>\n",
       "      <th>yedge</th>\n",
       "      <th>yedgex</th>\n",
       "    </tr>\n",
       "  </thead>\n",
       "  <tbody>\n",
       "    <tr>\n",
       "      <th>count</th>\n",
       "      <td>20000.00</td>\n",
       "      <td>20000.00</td>\n",
       "      <td>20000.00</td>\n",
       "      <td>20000.00</td>\n",
       "      <td>20000.00</td>\n",
       "      <td>20000.00</td>\n",
       "      <td>20000.00</td>\n",
       "      <td>20000.00</td>\n",
       "      <td>20000.00</td>\n",
       "      <td>20000.00</td>\n",
       "      <td>20000.00</td>\n",
       "      <td>20000.00</td>\n",
       "      <td>20000.00</td>\n",
       "      <td>20000.00</td>\n",
       "      <td>20000.00</td>\n",
       "      <td>20000.00</td>\n",
       "    </tr>\n",
       "    <tr>\n",
       "      <th>mean</th>\n",
       "      <td>4.02</td>\n",
       "      <td>7.04</td>\n",
       "      <td>5.12</td>\n",
       "      <td>5.37</td>\n",
       "      <td>3.51</td>\n",
       "      <td>6.90</td>\n",
       "      <td>7.50</td>\n",
       "      <td>4.63</td>\n",
       "      <td>5.18</td>\n",
       "      <td>8.28</td>\n",
       "      <td>6.45</td>\n",
       "      <td>7.93</td>\n",
       "      <td>3.05</td>\n",
       "      <td>8.34</td>\n",
       "      <td>3.69</td>\n",
       "      <td>7.80</td>\n",
       "    </tr>\n",
       "    <tr>\n",
       "      <th>std</th>\n",
       "      <td>1.91</td>\n",
       "      <td>3.30</td>\n",
       "      <td>2.01</td>\n",
       "      <td>2.26</td>\n",
       "      <td>2.19</td>\n",
       "      <td>2.03</td>\n",
       "      <td>2.33</td>\n",
       "      <td>2.70</td>\n",
       "      <td>2.38</td>\n",
       "      <td>2.49</td>\n",
       "      <td>2.63</td>\n",
       "      <td>2.08</td>\n",
       "      <td>2.33</td>\n",
       "      <td>1.55</td>\n",
       "      <td>2.57</td>\n",
       "      <td>1.62</td>\n",
       "    </tr>\n",
       "    <tr>\n",
       "      <th>min</th>\n",
       "      <td>0.00</td>\n",
       "      <td>0.00</td>\n",
       "      <td>0.00</td>\n",
       "      <td>0.00</td>\n",
       "      <td>0.00</td>\n",
       "      <td>0.00</td>\n",
       "      <td>0.00</td>\n",
       "      <td>0.00</td>\n",
       "      <td>0.00</td>\n",
       "      <td>0.00</td>\n",
       "      <td>0.00</td>\n",
       "      <td>0.00</td>\n",
       "      <td>0.00</td>\n",
       "      <td>0.00</td>\n",
       "      <td>0.00</td>\n",
       "      <td>0.00</td>\n",
       "    </tr>\n",
       "    <tr>\n",
       "      <th>25%</th>\n",
       "      <td>3.00</td>\n",
       "      <td>5.00</td>\n",
       "      <td>4.00</td>\n",
       "      <td>4.00</td>\n",
       "      <td>2.00</td>\n",
       "      <td>6.00</td>\n",
       "      <td>6.00</td>\n",
       "      <td>3.00</td>\n",
       "      <td>4.00</td>\n",
       "      <td>7.00</td>\n",
       "      <td>5.00</td>\n",
       "      <td>7.00</td>\n",
       "      <td>1.00</td>\n",
       "      <td>8.00</td>\n",
       "      <td>2.00</td>\n",
       "      <td>7.00</td>\n",
       "    </tr>\n",
       "    <tr>\n",
       "      <th>50%</th>\n",
       "      <td>4.00</td>\n",
       "      <td>7.00</td>\n",
       "      <td>5.00</td>\n",
       "      <td>6.00</td>\n",
       "      <td>3.00</td>\n",
       "      <td>7.00</td>\n",
       "      <td>7.00</td>\n",
       "      <td>4.00</td>\n",
       "      <td>5.00</td>\n",
       "      <td>8.00</td>\n",
       "      <td>6.00</td>\n",
       "      <td>8.00</td>\n",
       "      <td>3.00</td>\n",
       "      <td>8.00</td>\n",
       "      <td>3.00</td>\n",
       "      <td>8.00</td>\n",
       "    </tr>\n",
       "    <tr>\n",
       "      <th>75%</th>\n",
       "      <td>5.00</td>\n",
       "      <td>9.00</td>\n",
       "      <td>6.00</td>\n",
       "      <td>7.00</td>\n",
       "      <td>5.00</td>\n",
       "      <td>8.00</td>\n",
       "      <td>9.00</td>\n",
       "      <td>6.00</td>\n",
       "      <td>7.00</td>\n",
       "      <td>10.00</td>\n",
       "      <td>8.00</td>\n",
       "      <td>9.00</td>\n",
       "      <td>4.00</td>\n",
       "      <td>9.00</td>\n",
       "      <td>5.00</td>\n",
       "      <td>9.00</td>\n",
       "    </tr>\n",
       "    <tr>\n",
       "      <th>max</th>\n",
       "      <td>15.00</td>\n",
       "      <td>15.00</td>\n",
       "      <td>15.00</td>\n",
       "      <td>15.00</td>\n",
       "      <td>15.00</td>\n",
       "      <td>15.00</td>\n",
       "      <td>15.00</td>\n",
       "      <td>15.00</td>\n",
       "      <td>15.00</td>\n",
       "      <td>15.00</td>\n",
       "      <td>15.00</td>\n",
       "      <td>15.00</td>\n",
       "      <td>15.00</td>\n",
       "      <td>15.00</td>\n",
       "      <td>15.00</td>\n",
       "      <td>15.00</td>\n",
       "    </tr>\n",
       "  </tbody>\n",
       "</table>\n",
       "</div>"
      ],
      "text/plain": [
       "           xbox      ybox     width    height     onpix      xbar      ybar  \\\n",
       "count  20000.00  20000.00  20000.00  20000.00  20000.00  20000.00  20000.00   \n",
       "mean       4.02      7.04      5.12      5.37      3.51      6.90      7.50   \n",
       "std        1.91      3.30      2.01      2.26      2.19      2.03      2.33   \n",
       "min        0.00      0.00      0.00      0.00      0.00      0.00      0.00   \n",
       "25%        3.00      5.00      4.00      4.00      2.00      6.00      6.00   \n",
       "50%        4.00      7.00      5.00      6.00      3.00      7.00      7.00   \n",
       "75%        5.00      9.00      6.00      7.00      5.00      8.00      9.00   \n",
       "max       15.00     15.00     15.00     15.00     15.00     15.00     15.00   \n",
       "\n",
       "          x2bar     y2bar     xybar    x2ybar    xy2bar     xedge    xedgey  \\\n",
       "count  20000.00  20000.00  20000.00  20000.00  20000.00  20000.00  20000.00   \n",
       "mean       4.63      5.18      8.28      6.45      7.93      3.05      8.34   \n",
       "std        2.70      2.38      2.49      2.63      2.08      2.33      1.55   \n",
       "min        0.00      0.00      0.00      0.00      0.00      0.00      0.00   \n",
       "25%        3.00      4.00      7.00      5.00      7.00      1.00      8.00   \n",
       "50%        4.00      5.00      8.00      6.00      8.00      3.00      8.00   \n",
       "75%        6.00      7.00     10.00      8.00      9.00      4.00      9.00   \n",
       "max       15.00     15.00     15.00     15.00     15.00     15.00     15.00   \n",
       "\n",
       "          yedge    yedgex  \n",
       "count  20000.00  20000.00  \n",
       "mean       3.69      7.80  \n",
       "std        2.57      1.62  \n",
       "min        0.00      0.00  \n",
       "25%        2.00      7.00  \n",
       "50%        3.00      8.00  \n",
       "75%        5.00      9.00  \n",
       "max       15.00     15.00  "
      ]
     },
     "execution_count": 10,
     "metadata": {},
     "output_type": "execute_result"
    }
   ],
   "source": [
    "#Checking for outliers\n",
    "round(df.describe(),2)"
   ]
  },
  {
   "cell_type": "markdown",
   "id": "525930ce",
   "metadata": {
    "papermill": {
     "duration": 0.045971,
     "end_time": "2022-05-08T23:40:26.239386",
     "exception": false,
     "start_time": "2022-05-08T23:40:26.193415",
     "status": "completed"
    },
    "tags": []
   },
   "source": [
    "There can be a possibility of outliers but we are not taking them into account for now."
   ]
  },
  {
   "cell_type": "code",
   "execution_count": 11,
   "id": "c300bc1b",
   "metadata": {
    "execution": {
     "iopub.execute_input": "2022-05-08T23:40:26.331847Z",
     "iopub.status.busy": "2022-05-08T23:40:26.331570Z",
     "iopub.status.idle": "2022-05-08T23:40:28.351150Z",
     "shell.execute_reply": "2022-05-08T23:40:28.350089Z"
    },
    "papermill": {
     "duration": 2.06916,
     "end_time": "2022-05-08T23:40:28.354004",
     "exception": false,
     "start_time": "2022-05-08T23:40:26.284844",
     "status": "completed"
    },
    "tags": []
   },
   "outputs": [
    {
     "data": {
      "text/plain": [
       "Text(0, 0.5, 'letter')"
      ]
     },
     "execution_count": 11,
     "metadata": {},
     "output_type": "execute_result"
    },
    {
     "data": {
      "image/png": "[encoded data removed]",
      "text/plain": [
       "<Figure size 1728x1440 with 10 Axes>"
      ]
     },
     "metadata": {
      "needs_background": "light"
     },
     "output_type": "display_data"
    }
   ],
   "source": [
    "plt.figure(figsize=(24,20))\n",
    "\n",
    "\n",
    "plt.subplot(5, 2, 1)\n",
    "fig = df['xbox'].hist(bins=20)\n",
    "fig.set_xlabel('xbox')\n",
    "fig.set_ylabel('letter')\n",
    "\n",
    "\n",
    "plt.subplot(5, 2, 2)\n",
    "fig = df['ybox'].hist(bins=20)\n",
    "fig.set_xlabel('ybox')\n",
    "fig.set_ylabel('letter')\n",
    "\n",
    "plt.subplot(5, 2, 3)\n",
    "fig = df['width'].hist(bins=20)\n",
    "fig.set_xlabel('width')\n",
    "fig.set_ylabel('letter')\n",
    "\n",
    "plt.subplot(5, 2, 4)\n",
    "fig = df['height'].hist(bins=20)\n",
    "fig.set_xlabel('height')\n",
    "fig.set_ylabel('letter')\n",
    "\n",
    "plt.subplot(5, 2, 5)\n",
    "fig = df['onpix'].hist(bins=20)\n",
    "fig.set_xlabel('onpix')\n",
    "fig.set_ylabel('letter')\n",
    "\n",
    "plt.subplot(5, 2, 6)\n",
    "fig = df['xbar'].hist(bins=20)\n",
    "fig.set_xlabel('xbar')\n",
    "fig.set_ylabel('letter')\n",
    "\n",
    "plt.subplot(5, 2, 7)\n",
    "fig = df['ybar'].hist(bins=20)\n",
    "fig.set_xlabel('ybar')\n",
    "fig.set_ylabel('letter')\n",
    "\n",
    "plt.subplot(5, 2, 8)\n",
    "fig = df['x2bar'].hist(bins=20)\n",
    "fig.set_xlabel('x2bar')\n",
    "fig.set_ylabel('letter')\n",
    "\n",
    "plt.subplot(5, 2, 9)\n",
    "fig = df['y2bar'].hist(bins=20)\n",
    "fig.set_xlabel('y2bar')\n",
    "fig.set_ylabel('letter')\n",
    "\n",
    "plt.subplot(5, 2, 10)\n",
    "fig = df['xedge'].hist(bins=20)\n",
    "fig.set_xlabel('xedge')\n",
    "fig.set_ylabel('letter')\n",
    "\n"
   ]
  },
  {
   "cell_type": "markdown",
   "id": "a42b4f8a",
   "metadata": {
    "papermill": {
     "duration": 0.047795,
     "end_time": "2022-05-08T23:40:28.449924",
     "exception": false,
     "start_time": "2022-05-08T23:40:28.402129",
     "status": "completed"
    },
    "tags": []
   },
   "source": [
    "# EASIER WAY"
   ]
  },
  {
   "cell_type": "code",
   "execution_count": 12,
   "id": "5dab8731",
   "metadata": {
    "execution": {
     "iopub.execute_input": "2022-05-08T23:40:28.548212Z",
     "iopub.status.busy": "2022-05-08T23:40:28.547651Z",
     "iopub.status.idle": "2022-05-08T23:40:31.361746Z",
     "shell.execute_reply": "2022-05-08T23:40:31.360658Z"
    },
    "papermill": {
     "duration": 2.866588,
     "end_time": "2022-05-08T23:40:31.364742",
     "exception": false,
     "start_time": "2022-05-08T23:40:28.498154",
     "status": "completed"
    },
    "tags": []
   },
   "outputs": [
    {
     "data": {
      "image/png": "[encoded data removed]",
      "text/plain": [
       "<Figure size 1440x1440 with 16 Axes>"
      ]
     },
     "metadata": {
      "needs_background": "light"
     },
     "output_type": "display_data"
    }
   ],
   "source": [
    "p = df.hist(figsize = (20,20))"
   ]
  },
  {
   "cell_type": "markdown",
   "id": "7cf2423c",
   "metadata": {
    "papermill": {
     "duration": 0.051849,
     "end_time": "2022-05-08T23:40:31.467269",
     "exception": false,
     "start_time": "2022-05-08T23:40:31.415420",
     "status": "completed"
    },
    "tags": []
   },
   "source": [
    "None of the data is skewed."
   ]
  },
  {
   "cell_type": "code",
   "execution_count": 13,
   "id": "7ab7b777",
   "metadata": {
    "execution": {
     "iopub.execute_input": "2022-05-08T23:40:31.576115Z",
     "iopub.status.busy": "2022-05-08T23:40:31.575840Z",
     "iopub.status.idle": "2022-05-08T23:40:31.596468Z",
     "shell.execute_reply": "2022-05-08T23:40:31.595582Z"
    },
    "papermill": {
     "duration": 0.07793,
     "end_time": "2022-05-08T23:40:31.598424",
     "exception": false,
     "start_time": "2022-05-08T23:40:31.520494",
     "status": "completed"
    },
    "tags": []
   },
   "outputs": [
    {
     "data": {
      "text/html": [
       "<div>\n",
       "<style scoped>\n",
       "    .dataframe tbody tr th:only-of-type {\n",
       "        vertical-align: middle;\n",
       "    }\n",
       "\n",
       "    .dataframe tbody tr th {\n",
       "        vertical-align: top;\n",
       "    }\n",
       "\n",
       "    .dataframe thead th {\n",
       "        text-align: right;\n",
       "    }\n",
       "</style>\n",
       "<table border=\"1\" class=\"dataframe\">\n",
       "  <thead>\n",
       "    <tr style=\"text-align: right;\">\n",
       "      <th></th>\n",
       "      <th>xbox</th>\n",
       "      <th>ybox</th>\n",
       "      <th>width</th>\n",
       "      <th>height</th>\n",
       "      <th>onpix</th>\n",
       "      <th>xbar</th>\n",
       "      <th>ybar</th>\n",
       "      <th>x2bar</th>\n",
       "      <th>y2bar</th>\n",
       "      <th>xybar</th>\n",
       "      <th>x2ybar</th>\n",
       "      <th>xy2bar</th>\n",
       "      <th>xedge</th>\n",
       "      <th>xedgey</th>\n",
       "      <th>yedge</th>\n",
       "      <th>yedgex</th>\n",
       "    </tr>\n",
       "  </thead>\n",
       "  <tbody>\n",
       "    <tr>\n",
       "      <th>0</th>\n",
       "      <td>2</td>\n",
       "      <td>8</td>\n",
       "      <td>3</td>\n",
       "      <td>5</td>\n",
       "      <td>1</td>\n",
       "      <td>8</td>\n",
       "      <td>13</td>\n",
       "      <td>0</td>\n",
       "      <td>6</td>\n",
       "      <td>6</td>\n",
       "      <td>10</td>\n",
       "      <td>8</td>\n",
       "      <td>0</td>\n",
       "      <td>8</td>\n",
       "      <td>0</td>\n",
       "      <td>8</td>\n",
       "    </tr>\n",
       "    <tr>\n",
       "      <th>1</th>\n",
       "      <td>5</td>\n",
       "      <td>12</td>\n",
       "      <td>3</td>\n",
       "      <td>7</td>\n",
       "      <td>2</td>\n",
       "      <td>10</td>\n",
       "      <td>5</td>\n",
       "      <td>5</td>\n",
       "      <td>4</td>\n",
       "      <td>13</td>\n",
       "      <td>3</td>\n",
       "      <td>9</td>\n",
       "      <td>2</td>\n",
       "      <td>8</td>\n",
       "      <td>4</td>\n",
       "      <td>10</td>\n",
       "    </tr>\n",
       "    <tr>\n",
       "      <th>2</th>\n",
       "      <td>4</td>\n",
       "      <td>11</td>\n",
       "      <td>6</td>\n",
       "      <td>8</td>\n",
       "      <td>6</td>\n",
       "      <td>10</td>\n",
       "      <td>6</td>\n",
       "      <td>2</td>\n",
       "      <td>6</td>\n",
       "      <td>10</td>\n",
       "      <td>3</td>\n",
       "      <td>7</td>\n",
       "      <td>3</td>\n",
       "      <td>7</td>\n",
       "      <td>3</td>\n",
       "      <td>9</td>\n",
       "    </tr>\n",
       "    <tr>\n",
       "      <th>3</th>\n",
       "      <td>7</td>\n",
       "      <td>11</td>\n",
       "      <td>6</td>\n",
       "      <td>6</td>\n",
       "      <td>3</td>\n",
       "      <td>5</td>\n",
       "      <td>9</td>\n",
       "      <td>4</td>\n",
       "      <td>6</td>\n",
       "      <td>4</td>\n",
       "      <td>4</td>\n",
       "      <td>10</td>\n",
       "      <td>6</td>\n",
       "      <td>10</td>\n",
       "      <td>2</td>\n",
       "      <td>8</td>\n",
       "    </tr>\n",
       "    <tr>\n",
       "      <th>4</th>\n",
       "      <td>2</td>\n",
       "      <td>1</td>\n",
       "      <td>3</td>\n",
       "      <td>1</td>\n",
       "      <td>1</td>\n",
       "      <td>8</td>\n",
       "      <td>6</td>\n",
       "      <td>6</td>\n",
       "      <td>6</td>\n",
       "      <td>6</td>\n",
       "      <td>5</td>\n",
       "      <td>9</td>\n",
       "      <td>1</td>\n",
       "      <td>7</td>\n",
       "      <td>5</td>\n",
       "      <td>10</td>\n",
       "    </tr>\n",
       "    <tr>\n",
       "      <th>...</th>\n",
       "      <td>...</td>\n",
       "      <td>...</td>\n",
       "      <td>...</td>\n",
       "      <td>...</td>\n",
       "      <td>...</td>\n",
       "      <td>...</td>\n",
       "      <td>...</td>\n",
       "      <td>...</td>\n",
       "      <td>...</td>\n",
       "      <td>...</td>\n",
       "      <td>...</td>\n",
       "      <td>...</td>\n",
       "      <td>...</td>\n",
       "      <td>...</td>\n",
       "      <td>...</td>\n",
       "      <td>...</td>\n",
       "    </tr>\n",
       "    <tr>\n",
       "      <th>19995</th>\n",
       "      <td>2</td>\n",
       "      <td>2</td>\n",
       "      <td>3</td>\n",
       "      <td>3</td>\n",
       "      <td>2</td>\n",
       "      <td>7</td>\n",
       "      <td>7</td>\n",
       "      <td>7</td>\n",
       "      <td>6</td>\n",
       "      <td>6</td>\n",
       "      <td>6</td>\n",
       "      <td>4</td>\n",
       "      <td>2</td>\n",
       "      <td>8</td>\n",
       "      <td>3</td>\n",
       "      <td>7</td>\n",
       "    </tr>\n",
       "    <tr>\n",
       "      <th>19996</th>\n",
       "      <td>7</td>\n",
       "      <td>10</td>\n",
       "      <td>8</td>\n",
       "      <td>8</td>\n",
       "      <td>4</td>\n",
       "      <td>4</td>\n",
       "      <td>8</td>\n",
       "      <td>6</td>\n",
       "      <td>9</td>\n",
       "      <td>12</td>\n",
       "      <td>9</td>\n",
       "      <td>13</td>\n",
       "      <td>2</td>\n",
       "      <td>9</td>\n",
       "      <td>3</td>\n",
       "      <td>7</td>\n",
       "    </tr>\n",
       "    <tr>\n",
       "      <th>19997</th>\n",
       "      <td>6</td>\n",
       "      <td>9</td>\n",
       "      <td>6</td>\n",
       "      <td>7</td>\n",
       "      <td>5</td>\n",
       "      <td>6</td>\n",
       "      <td>11</td>\n",
       "      <td>3</td>\n",
       "      <td>7</td>\n",
       "      <td>11</td>\n",
       "      <td>9</td>\n",
       "      <td>5</td>\n",
       "      <td>2</td>\n",
       "      <td>12</td>\n",
       "      <td>2</td>\n",
       "      <td>4</td>\n",
       "    </tr>\n",
       "    <tr>\n",
       "      <th>19998</th>\n",
       "      <td>2</td>\n",
       "      <td>3</td>\n",
       "      <td>4</td>\n",
       "      <td>2</td>\n",
       "      <td>1</td>\n",
       "      <td>8</td>\n",
       "      <td>7</td>\n",
       "      <td>2</td>\n",
       "      <td>6</td>\n",
       "      <td>10</td>\n",
       "      <td>6</td>\n",
       "      <td>8</td>\n",
       "      <td>1</td>\n",
       "      <td>9</td>\n",
       "      <td>5</td>\n",
       "      <td>8</td>\n",
       "    </tr>\n",
       "    <tr>\n",
       "      <th>19999</th>\n",
       "      <td>4</td>\n",
       "      <td>9</td>\n",
       "      <td>6</td>\n",
       "      <td>6</td>\n",
       "      <td>2</td>\n",
       "      <td>9</td>\n",
       "      <td>5</td>\n",
       "      <td>3</td>\n",
       "      <td>1</td>\n",
       "      <td>8</td>\n",
       "      <td>1</td>\n",
       "      <td>8</td>\n",
       "      <td>2</td>\n",
       "      <td>7</td>\n",
       "      <td>2</td>\n",
       "      <td>8</td>\n",
       "    </tr>\n",
       "  </tbody>\n",
       "</table>\n",
       "<p>20000 rows × 16 columns</p>\n",
       "</div>"
      ],
      "text/plain": [
       "       xbox  ybox  width  height  onpix  xbar  ybar  x2bar  y2bar  xybar  \\\n",
       "0         2     8      3       5      1     8    13      0      6      6   \n",
       "1         5    12      3       7      2    10     5      5      4     13   \n",
       "2         4    11      6       8      6    10     6      2      6     10   \n",
       "3         7    11      6       6      3     5     9      4      6      4   \n",
       "4         2     1      3       1      1     8     6      6      6      6   \n",
       "...     ...   ...    ...     ...    ...   ...   ...    ...    ...    ...   \n",
       "19995     2     2      3       3      2     7     7      7      6      6   \n",
       "19996     7    10      8       8      4     4     8      6      9     12   \n",
       "19997     6     9      6       7      5     6    11      3      7     11   \n",
       "19998     2     3      4       2      1     8     7      2      6     10   \n",
       "19999     4     9      6       6      2     9     5      3      1      8   \n",
       "\n",
       "       x2ybar  xy2bar  xedge  xedgey  yedge  yedgex  \n",
       "0          10       8      0       8      0       8  \n",
       "1           3       9      2       8      4      10  \n",
       "2           3       7      3       7      3       9  \n",
       "3           4      10      6      10      2       8  \n",
       "4           5       9      1       7      5      10  \n",
       "...       ...     ...    ...     ...    ...     ...  \n",
       "19995       6       4      2       8      3       7  \n",
       "19996       9      13      2       9      3       7  \n",
       "19997       9       5      2      12      2       4  \n",
       "19998       6       8      1       9      5       8  \n",
       "19999       1       8      2       7      2       8  \n",
       "\n",
       "[20000 rows x 16 columns]"
      ]
     },
     "execution_count": 13,
     "metadata": {},
     "output_type": "execute_result"
    }
   ],
   "source": [
    "X = df.drop(['letter'], axis=1)\n",
    "\n",
    "y = df['letter']\n",
    "X"
   ]
  },
  {
   "cell_type": "code",
   "execution_count": 14,
   "id": "76a1a66a",
   "metadata": {
    "execution": {
     "iopub.execute_input": "2022-05-08T23:40:31.704968Z",
     "iopub.status.busy": "2022-05-08T23:40:31.704527Z",
     "iopub.status.idle": "2022-05-08T23:40:31.918036Z",
     "shell.execute_reply": "2022-05-08T23:40:31.917161Z"
    },
    "papermill": {
     "duration": 0.27011,
     "end_time": "2022-05-08T23:40:31.920372",
     "exception": false,
     "start_time": "2022-05-08T23:40:31.650262",
     "status": "completed"
    },
    "tags": []
   },
   "outputs": [],
   "source": [
    "from sklearn.model_selection import train_test_split\n",
    "\n",
    "X_train, X_test, y_train, y_test = train_test_split(X, y, test_size = 0.2, random_state = 0)"
   ]
  },
  {
   "cell_type": "code",
   "execution_count": 15,
   "id": "88595951",
   "metadata": {
    "execution": {
     "iopub.execute_input": "2022-05-08T23:40:32.030369Z",
     "iopub.status.busy": "2022-05-08T23:40:32.030040Z",
     "iopub.status.idle": "2022-05-08T23:40:32.035946Z",
     "shell.execute_reply": "2022-05-08T23:40:32.035062Z"
    },
    "papermill": {
     "duration": 0.064178,
     "end_time": "2022-05-08T23:40:32.038082",
     "exception": false,
     "start_time": "2022-05-08T23:40:31.973904",
     "status": "completed"
    },
    "tags": []
   },
   "outputs": [
    {
     "data": {
      "text/plain": [
       "((16000, 16), (4000, 16))"
      ]
     },
     "execution_count": 15,
     "metadata": {},
     "output_type": "execute_result"
    }
   ],
   "source": [
    "X_train.shape, X_test.shape\n"
   ]
  },
  {
   "cell_type": "code",
   "execution_count": 16,
   "id": "0f99d253",
   "metadata": {
    "execution": {
     "iopub.execute_input": "2022-05-08T23:40:32.144259Z",
     "iopub.status.busy": "2022-05-08T23:40:32.143957Z",
     "iopub.status.idle": "2022-05-08T23:40:32.150099Z",
     "shell.execute_reply": "2022-05-08T23:40:32.149247Z"
    },
    "papermill": {
     "duration": 0.061963,
     "end_time": "2022-05-08T23:40:32.152359",
     "exception": false,
     "start_time": "2022-05-08T23:40:32.090396",
     "status": "completed"
    },
    "tags": []
   },
   "outputs": [
    {
     "data": {
      "text/plain": [
       "Index(['xbox', 'ybox', 'width', 'height', 'onpix', 'xbar', 'ybar', 'x2bar',\n",
       "       'y2bar', 'xybar', 'x2ybar', 'xy2bar', 'xedge', 'xedgey', 'yedge',\n",
       "       'yedgex'],\n",
       "      dtype='object')"
      ]
     },
     "execution_count": 16,
     "metadata": {},
     "output_type": "execute_result"
    }
   ],
   "source": [
    "cols = X_train.columns\n",
    "cols"
   ]
  },
  {
   "cell_type": "code",
   "execution_count": 17,
   "id": "24a90105",
   "metadata": {
    "execution": {
     "iopub.execute_input": "2022-05-08T23:40:32.260297Z",
     "iopub.status.busy": "2022-05-08T23:40:32.259391Z",
     "iopub.status.idle": "2022-05-08T23:40:32.273645Z",
     "shell.execute_reply": "2022-05-08T23:40:32.272927Z"
    },
    "papermill": {
     "duration": 0.071037,
     "end_time": "2022-05-08T23:40:32.275795",
     "exception": false,
     "start_time": "2022-05-08T23:40:32.204758",
     "status": "completed"
    },
    "tags": []
   },
   "outputs": [],
   "source": [
    "from sklearn.preprocessing import StandardScaler\n",
    "\n",
    "scaler = StandardScaler()\n",
    "\n",
    "X_train = scaler.fit_transform(X_train)\n",
    "\n",
    "X_test = scaler.transform(X_test)\n"
   ]
  },
  {
   "cell_type": "code",
   "execution_count": 18,
   "id": "ffe823ee",
   "metadata": {
    "execution": {
     "iopub.execute_input": "2022-05-08T23:40:32.383888Z",
     "iopub.status.busy": "2022-05-08T23:40:32.382995Z",
     "iopub.status.idle": "2022-05-08T23:40:32.473143Z",
     "shell.execute_reply": "2022-05-08T23:40:32.472287Z"
    },
    "papermill": {
     "duration": 0.146283,
     "end_time": "2022-05-08T23:40:32.475182",
     "exception": false,
     "start_time": "2022-05-08T23:40:32.328899",
     "status": "completed"
    },
    "tags": []
   },
   "outputs": [
    {
     "data": {
      "text/html": [
       "<div>\n",
       "<style scoped>\n",
       "    .dataframe tbody tr th:only-of-type {\n",
       "        vertical-align: middle;\n",
       "    }\n",
       "\n",
       "    .dataframe tbody tr th {\n",
       "        vertical-align: top;\n",
       "    }\n",
       "\n",
       "    .dataframe thead tr th {\n",
       "        text-align: left;\n",
       "    }\n",
       "</style>\n",
       "<table border=\"1\" class=\"dataframe\">\n",
       "  <thead>\n",
       "    <tr>\n",
       "      <th></th>\n",
       "      <th>xbox</th>\n",
       "      <th>ybox</th>\n",
       "      <th>width</th>\n",
       "      <th>height</th>\n",
       "      <th>onpix</th>\n",
       "      <th>xbar</th>\n",
       "      <th>ybar</th>\n",
       "      <th>x2bar</th>\n",
       "      <th>y2bar</th>\n",
       "      <th>xybar</th>\n",
       "      <th>x2ybar</th>\n",
       "      <th>xy2bar</th>\n",
       "      <th>xedge</th>\n",
       "      <th>xedgey</th>\n",
       "      <th>yedge</th>\n",
       "      <th>yedgex</th>\n",
       "    </tr>\n",
       "  </thead>\n",
       "  <tbody>\n",
       "    <tr>\n",
       "      <th>count</th>\n",
       "      <td>1.600000e+04</td>\n",
       "      <td>1.600000e+04</td>\n",
       "      <td>1.600000e+04</td>\n",
       "      <td>1.600000e+04</td>\n",
       "      <td>1.600000e+04</td>\n",
       "      <td>1.600000e+04</td>\n",
       "      <td>1.600000e+04</td>\n",
       "      <td>1.600000e+04</td>\n",
       "      <td>1.600000e+04</td>\n",
       "      <td>1.600000e+04</td>\n",
       "      <td>1.600000e+04</td>\n",
       "      <td>1.600000e+04</td>\n",
       "      <td>1.600000e+04</td>\n",
       "      <td>1.600000e+04</td>\n",
       "      <td>1.600000e+04</td>\n",
       "      <td>1.600000e+04</td>\n",
       "    </tr>\n",
       "    <tr>\n",
       "      <th>mean</th>\n",
       "      <td>-4.463097e-17</td>\n",
       "      <td>9.359180e-17</td>\n",
       "      <td>4.263256e-17</td>\n",
       "      <td>2.664535e-18</td>\n",
       "      <td>4.440892e-18</td>\n",
       "      <td>4.041212e-17</td>\n",
       "      <td>6.794565e-17</td>\n",
       "      <td>5.262457e-17</td>\n",
       "      <td>-6.572520e-17</td>\n",
       "      <td>-2.593481e-16</td>\n",
       "      <td>-1.487699e-16</td>\n",
       "      <td>8.881784e-19</td>\n",
       "      <td>-1.687539e-17</td>\n",
       "      <td>-4.000134e-16</td>\n",
       "      <td>-3.197442e-17</td>\n",
       "      <td>-1.564304e-16</td>\n",
       "    </tr>\n",
       "    <tr>\n",
       "      <th>std</th>\n",
       "      <td>1.000031e+00</td>\n",
       "      <td>1.000031e+00</td>\n",
       "      <td>1.000031e+00</td>\n",
       "      <td>1.000031e+00</td>\n",
       "      <td>1.000031e+00</td>\n",
       "      <td>1.000031e+00</td>\n",
       "      <td>1.000031e+00</td>\n",
       "      <td>1.000031e+00</td>\n",
       "      <td>1.000031e+00</td>\n",
       "      <td>1.000031e+00</td>\n",
       "      <td>1.000031e+00</td>\n",
       "      <td>1.000031e+00</td>\n",
       "      <td>1.000031e+00</td>\n",
       "      <td>1.000031e+00</td>\n",
       "      <td>1.000031e+00</td>\n",
       "      <td>1.000031e+00</td>\n",
       "    </tr>\n",
       "    <tr>\n",
       "      <th>min</th>\n",
       "      <td>-2.099664e+00</td>\n",
       "      <td>-2.133838e+00</td>\n",
       "      <td>-2.532818e+00</td>\n",
       "      <td>-2.372225e+00</td>\n",
       "      <td>-1.599408e+00</td>\n",
       "      <td>-3.403667e+00</td>\n",
       "      <td>-3.223370e+00</td>\n",
       "      <td>-1.716585e+00</td>\n",
       "      <td>-2.168609e+00</td>\n",
       "      <td>-3.335602e+00</td>\n",
       "      <td>-2.454246e+00</td>\n",
       "      <td>-3.824435e+00</td>\n",
       "      <td>-1.306847e+00</td>\n",
       "      <td>-5.406182e+00</td>\n",
       "      <td>-1.441915e+00</td>\n",
       "      <td>-4.816080e+00</td>\n",
       "    </tr>\n",
       "    <tr>\n",
       "      <th>25%</th>\n",
       "      <td>-5.356199e-01</td>\n",
       "      <td>-6.201557e-01</td>\n",
       "      <td>-5.553332e-01</td>\n",
       "      <td>-6.067252e-01</td>\n",
       "      <td>-6.877397e-01</td>\n",
       "      <td>-4.455910e-01</td>\n",
       "      <td>-6.428677e-01</td>\n",
       "      <td>-6.024468e-01</td>\n",
       "      <td>-4.927741e-01</td>\n",
       "      <td>-5.163721e-01</td>\n",
       "      <td>-5.491639e-01</td>\n",
       "      <td>-4.449726e-01</td>\n",
       "      <td>-4.502493e-01</td>\n",
       "      <td>-2.223383e-01</td>\n",
       "      <td>-6.619879e-01</td>\n",
       "      <td>-4.913233e-01</td>\n",
       "    </tr>\n",
       "    <tr>\n",
       "      <th>50%</th>\n",
       "      <td>-1.427190e-02</td>\n",
       "      <td>-1.468272e-02</td>\n",
       "      <td>-6.096214e-02</td>\n",
       "      <td>2.760249e-01</td>\n",
       "      <td>-2.319056e-01</td>\n",
       "      <td>4.742165e-02</td>\n",
       "      <td>-2.127839e-01</td>\n",
       "      <td>-2.310675e-01</td>\n",
       "      <td>-7.381531e-02</td>\n",
       "      <td>-1.136250e-01</td>\n",
       "      <td>-1.681473e-01</td>\n",
       "      <td>3.780774e-02</td>\n",
       "      <td>-2.195032e-02</td>\n",
       "      <td>-2.223383e-01</td>\n",
       "      <td>-2.720241e-01</td>\n",
       "      <td>1.264991e-01</td>\n",
       "    </tr>\n",
       "    <tr>\n",
       "      <th>75%</th>\n",
       "      <td>5.070761e-01</td>\n",
       "      <td>5.907903e-01</td>\n",
       "      <td>4.334090e-01</td>\n",
       "      <td>7.173999e-01</td>\n",
       "      <td>6.797626e-01</td>\n",
       "      <td>5.404343e-01</td>\n",
       "      <td>6.473836e-01</td>\n",
       "      <td>5.116910e-01</td>\n",
       "      <td>7.641023e-01</td>\n",
       "      <td>6.918691e-01</td>\n",
       "      <td>5.938857e-01</td>\n",
       "      <td>5.205881e-01</td>\n",
       "      <td>4.063487e-01</td>\n",
       "      <td>4.256422e-01</td>\n",
       "      <td>5.079034e-01</td>\n",
       "      <td>1.264991e-01</td>\n",
       "    </tr>\n",
       "    <tr>\n",
       "      <th>max</th>\n",
       "      <td>5.720556e+00</td>\n",
       "      <td>2.407209e+00</td>\n",
       "      <td>4.882749e+00</td>\n",
       "      <td>4.248400e+00</td>\n",
       "      <td>5.238104e+00</td>\n",
       "      <td>3.991523e+00</td>\n",
       "      <td>3.227886e+00</td>\n",
       "      <td>3.854104e+00</td>\n",
       "      <td>4.115773e+00</td>\n",
       "      <td>2.705604e+00</td>\n",
       "      <td>3.261001e+00</td>\n",
       "      <td>3.417270e+00</td>\n",
       "      <td>5.117637e+00</td>\n",
       "      <td>4.313525e+00</td>\n",
       "      <td>4.407541e+00</td>\n",
       "      <td>4.451256e+00</td>\n",
       "    </tr>\n",
       "  </tbody>\n",
       "</table>\n",
       "</div>"
      ],
      "text/plain": [
       "               xbox          ybox         width        height         onpix  \\\n",
       "count  1.600000e+04  1.600000e+04  1.600000e+04  1.600000e+04  1.600000e+04   \n",
       "mean  -4.463097e-17  9.359180e-17  4.263256e-17  2.664535e-18  4.440892e-18   \n",
       "std    1.000031e+00  1.000031e+00  1.000031e+00  1.000031e+00  1.000031e+00   \n",
       "min   -2.099664e+00 -2.133838e+00 -2.532818e+00 -2.372225e+00 -1.599408e+00   \n",
       "25%   -5.356199e-01 -6.201557e-01 -5.553332e-01 -6.067252e-01 -6.877397e-01   \n",
       "50%   -1.427190e-02 -1.468272e-02 -6.096214e-02  2.760249e-01 -2.319056e-01   \n",
       "75%    5.070761e-01  5.907903e-01  4.334090e-01  7.173999e-01  6.797626e-01   \n",
       "max    5.720556e+00  2.407209e+00  4.882749e+00  4.248400e+00  5.238104e+00   \n",
       "\n",
       "               xbar          ybar         x2bar         y2bar         xybar  \\\n",
       "count  1.600000e+04  1.600000e+04  1.600000e+04  1.600000e+04  1.600000e+04   \n",
       "mean   4.041212e-17  6.794565e-17  5.262457e-17 -6.572520e-17 -2.593481e-16   \n",
       "std    1.000031e+00  1.000031e+00  1.000031e+00  1.000031e+00  1.000031e+00   \n",
       "min   -3.403667e+00 -3.223370e+00 -1.716585e+00 -2.168609e+00 -3.335602e+00   \n",
       "25%   -4.455910e-01 -6.428677e-01 -6.024468e-01 -4.927741e-01 -5.163721e-01   \n",
       "50%    4.742165e-02 -2.127839e-01 -2.310675e-01 -7.381531e-02 -1.136250e-01   \n",
       "75%    5.404343e-01  6.473836e-01  5.116910e-01  7.641023e-01  6.918691e-01   \n",
       "max    3.991523e+00  3.227886e+00  3.854104e+00  4.115773e+00  2.705604e+00   \n",
       "\n",
       "             x2ybar        xy2bar         xedge        xedgey         yedge  \\\n",
       "count  1.600000e+04  1.600000e+04  1.600000e+04  1.600000e+04  1.600000e+04   \n",
       "mean  -1.487699e-16  8.881784e-19 -1.687539e-17 -4.000134e-16 -3.197442e-17   \n",
       "std    1.000031e+00  1.000031e+00  1.000031e+00  1.000031e+00  1.000031e+00   \n",
       "min   -2.454246e+00 -3.824435e+00 -1.306847e+00 -5.406182e+00 -1.441915e+00   \n",
       "25%   -5.491639e-01 -4.449726e-01 -4.502493e-01 -2.223383e-01 -6.619879e-01   \n",
       "50%   -1.681473e-01  3.780774e-02 -2.195032e-02 -2.223383e-01 -2.720241e-01   \n",
       "75%    5.938857e-01  5.205881e-01  4.063487e-01  4.256422e-01  5.079034e-01   \n",
       "max    3.261001e+00  3.417270e+00  5.117637e+00  4.313525e+00  4.407541e+00   \n",
       "\n",
       "             yedgex  \n",
       "count  1.600000e+04  \n",
       "mean  -1.564304e-16  \n",
       "std    1.000031e+00  \n",
       "min   -4.816080e+00  \n",
       "25%   -4.913233e-01  \n",
       "50%    1.264991e-01  \n",
       "75%    1.264991e-01  \n",
       "max    4.451256e+00  "
      ]
     },
     "execution_count": 18,
     "metadata": {},
     "output_type": "execute_result"
    }
   ],
   "source": [
    "X_train = pd.DataFrame(X_train, columns=[cols])\n",
    "X_test = pd.DataFrame(X_test, columns=[cols])\n",
    "\n",
    "X_train.describe()"
   ]
  },
  {
   "cell_type": "code",
   "execution_count": 19,
   "id": "c033a7a1",
   "metadata": {
    "execution": {
     "iopub.execute_input": "2022-05-08T23:40:32.584457Z",
     "iopub.status.busy": "2022-05-08T23:40:32.583437Z",
     "iopub.status.idle": "2022-05-08T23:40:36.893155Z",
     "shell.execute_reply": "2022-05-08T23:40:36.892128Z"
    },
    "papermill": {
     "duration": 4.367433,
     "end_time": "2022-05-08T23:40:36.896236",
     "exception": false,
     "start_time": "2022-05-08T23:40:32.528803",
     "status": "completed"
    },
    "tags": []
   },
   "outputs": [
    {
     "name": "stderr",
     "output_type": "stream",
     "text": [
      "/opt/conda/lib/python3.7/site-packages/sklearn/utils/validation.py:1692: FutureWarning: Feature names only support names that are all strings. Got feature names with dtypes: ['tuple']. An error will be raised in 1.2.\n",
      "  FutureWarning,\n",
      "/opt/conda/lib/python3.7/site-packages/sklearn/utils/validation.py:1692: FutureWarning: Feature names only support names that are all strings. Got feature names with dtypes: ['tuple']. An error will be raised in 1.2.\n",
      "  FutureWarning,\n"
     ]
    },
    {
     "name": "stdout",
     "output_type": "stream",
     "text": [
      "Model accuracy score with polynomial kernel and C=100.0 : 0.9567\n"
     ]
    }
   ],
   "source": [
    "# import SVC classifier\n",
    "from sklearn.svm import SVC\n",
    "\n",
    "\n",
    "# import metrics to compute accuracy\n",
    "from sklearn.metrics import accuracy_score\n",
    "\n",
    "\n",
    "\n",
    "# instantiate classifier with polynomial kernel and C=1.0\n",
    "poly_svc=SVC(kernel='poly', C=100.0) \n",
    "\n",
    "\n",
    "# fit classifier to training set\n",
    "poly_svc.fit(X_train,y_train)\n",
    "\n",
    "\n",
    "# make predictions on test set\n",
    "y_pred_test=poly_svc.predict(X_test)\n",
    "\n",
    "\n",
    "# compute and print accuracy score\n",
    "print('Model accuracy score with polynomial kernel and C=100.0 : {0:0.4f}'. format(accuracy_score(y_test, y_pred_test)))"
   ]
  },
  {
   "cell_type": "code",
   "execution_count": 20,
   "id": "766b3ea7",
   "metadata": {
    "execution": {
     "iopub.execute_input": "2022-05-08T23:40:37.012683Z",
     "iopub.status.busy": "2022-05-08T23:40:37.012376Z",
     "iopub.status.idle": "2022-05-08T23:40:37.044404Z",
     "shell.execute_reply": "2022-05-08T23:40:37.042704Z"
    },
    "papermill": {
     "duration": 0.093474,
     "end_time": "2022-05-08T23:40:37.046813",
     "exception": false,
     "start_time": "2022-05-08T23:40:36.953339",
     "status": "completed"
    },
    "tags": []
   },
   "outputs": [
    {
     "name": "stdout",
     "output_type": "stream",
     "text": [
      "Confusion matrix\n",
      "\n",
      " [[145   0   0   1   0   0   0   0   0   1   0   0   0   0   0   0   0   0\n",
      "    0   0   0   0   0   0   0   0]\n",
      " [  1 149   0   0   0   0   0   1   0   1   0   0   0   0   0   0   0   3\n",
      "    0   0   0   3   0   0   0   0]\n",
      " [  0   0 154   0   0   0   2   0   0   0   0   0   0   0   0   0   0   0\n",
      "    0   0   0   0   0   0   0   0]\n",
      " [  0   2   0 162   0   0   1   2   0   1   0   0   0   1   2   0   0   0\n",
      "    0   0   0   0   0   0   0   0]\n",
      " [  0   0   1   0 139   0   0   0   0   0   0   2   1   0   0   0   1   0\n",
      "    0   0   0   1   0   0   0   0]\n",
      " [  1   1   1   0   1 157   1   1   0   0   0   0   0   0   0   3   0   0\n",
      "    0   0   0   1   0   0   0   0]\n",
      " [  0   0   1   0   0   0 171   0   0   0   1   1   0   0   3   0   1   2\n",
      "    0   0   0   2   0   0   0   0]\n",
      " [  0   1   0   0   0   1   0 113   0   0   1   0   1   1   3   0   0   1\n",
      "    0   0   0   0   0   1   0   0]\n",
      " [  0   0   0   0   0   2   0   0 119   6   0   0   0   0   0   0   0   0\n",
      "    0   0   0   0   0   0   0   0]\n",
      " [  0   0   0   0   0   1   0   0   1 155   0   0   0   0   1   0   0   0\n",
      "    1   0   0   0   0   0   0   0]\n",
      " [  0   0   0   0   0   0   2   6   0   0 133   0   0   0   0   0   0   2\n",
      "    0   0   0   0   0   0   0   0]\n",
      " [  0   0   1   0   1   0   1   0   0   0   1 153   0   0   0   0   1   1\n",
      "    0   0   0   0   0   0   0   0]\n",
      " [  0   1   0   1   0   0   0   0   0   0   0   0 169   0   0   0   0   0\n",
      "    0   0   0   0   2   0   0   0]\n",
      " [  0   0   1   0   0   0   0   2   0   1   0   0   0 128   2   0   0   0\n",
      "    0   0   0   0   0   0   0   0]\n",
      " [  0   0   1   1   0   0   0   0   0   0   0   0   0   0 137   0   0   0\n",
      "    0   0   0   1   2   0   0   0]\n",
      " [  0   0   0   0   0   3   0   1   0   0   0   0   0   0   0 161   0   0\n",
      "    0   0   0   0   0   0   0   0]\n",
      " [  0   0   0   0   0   0   2   0   0   0   0   0   0   0   2   0 138   1\n",
      "    0   0   0   1   0   0   0   1]\n",
      " [  0   1   0   0   0   0   0   1   0   0   0   2   0   3   0   0   0 142\n",
      "    0   0   0   0   0   0   0   0]\n",
      " [  0   3   0   0   0   0   0   0   0   0   0   5   0   0   1   0   0   0\n",
      "  145   0   0   0   0   0   0   0]\n",
      " [  0   0   0   0   0   0   0   1   0   0   1   0   0   0   0   0   0   0\n",
      "    0 173   0   0   0   1   1   0]\n",
      " [  0   0   0   0   0   0   0   1   0   0   0   0   1   0   1   0   0   0\n",
      "    0   0 157   0   0   0   0   0]\n",
      " [  0   2   0   0   0   0   0   0   0   0   0   0   0   0   1   1   0   0\n",
      "    0   0   1 147   1   0   0   0]\n",
      " [  0   0   0   0   0   0   0   0   0   0   0   0   1   0   2   0   0   0\n",
      "    0   0   0   3 133   0   2   0]\n",
      " [  0   0   0   2   0   0   0   3   0   1   2   1   0   0   0   0   0   1\n",
      "    0   0   1   0   0 162   0   0]\n",
      " [  0   0   0   0   0   1   0   1   0   0   0   2   0   0   0   0   0   0\n",
      "    0   2   1   0   0   1 146   0]\n",
      " [  0   0   0   0   0   0   0   0   0   1   0   0   0   0   0   0   0   0\n",
      "    3   0   0   0   0   0   0 139]]\n"
     ]
    }
   ],
   "source": [
    "# Print the Confusion Matrix and slice it into four pieces\n",
    "\n",
    "from sklearn.metrics import confusion_matrix\n",
    "\n",
    "cm = confusion_matrix(y_test, y_pred_test)\n",
    "\n",
    "print('Confusion matrix\\n\\n', cm)\n"
   ]
  },
  {
   "cell_type": "code",
   "execution_count": 21,
   "id": "0b7daff0",
   "metadata": {
    "execution": {
     "iopub.execute_input": "2022-05-08T23:40:37.163450Z",
     "iopub.status.busy": "2022-05-08T23:40:37.162801Z",
     "iopub.status.idle": "2022-05-08T23:40:37.474593Z",
     "shell.execute_reply": "2022-05-08T23:40:37.473604Z"
    },
    "papermill": {
     "duration": 0.37431,
     "end_time": "2022-05-08T23:40:37.477575",
     "exception": false,
     "start_time": "2022-05-08T23:40:37.103265",
     "status": "completed"
    },
    "tags": []
   },
   "outputs": [
    {
     "data": {
      "image/png": "[encoded data removed]",
      "text/plain": [
       "<Figure size 720x720 with 2 Axes>"
      ]
     },
     "metadata": {
      "needs_background": "light"
     },
     "output_type": "display_data"
    }
   ],
   "source": [
    "# visualize confusion matrix \n",
    "\n",
    "fig = plt.figure(figsize=(10,10))\n",
    "ax = fig.add_subplot(111)\n",
    "\n",
    "# plot the matrix\n",
    "cax = ax.matshow(cm)\n",
    "\n",
    "# add colorbar for reference\n",
    "fig.colorbar(cax)\n",
    "\n",
    "# add labels to plot\n",
    "plt.xlabel(\"Predicted\")\n",
    "plt.ylabel(\"True\")\n",
    "plt.show()"
   ]
  },
  {
   "cell_type": "code",
   "execution_count": 22,
   "id": "2a6abbb9",
   "metadata": {
    "execution": {
     "iopub.execute_input": "2022-05-08T23:40:37.598817Z",
     "iopub.status.busy": "2022-05-08T23:40:37.597795Z",
     "iopub.status.idle": "2022-05-08T23:40:40.607687Z",
     "shell.execute_reply": "2022-05-08T23:40:40.606804Z"
    },
    "papermill": {
     "duration": 3.075178,
     "end_time": "2022-05-08T23:40:40.609944",
     "exception": false,
     "start_time": "2022-05-08T23:40:37.534766",
     "status": "completed"
    },
    "tags": []
   },
   "outputs": [
    {
     "data": {
      "text/plain": [
       "[Text(0, 0.5, 'A'),\n",
       " Text(0, 1.5, 'B'),\n",
       " Text(0, 2.5, 'C'),\n",
       " Text(0, 3.5, 'D'),\n",
       " Text(0, 4.5, 'E'),\n",
       " Text(0, 5.5, 'F'),\n",
       " Text(0, 6.5, 'G'),\n",
       " Text(0, 7.5, 'H'),\n",
       " Text(0, 8.5, 'I'),\n",
       " Text(0, 9.5, 'J'),\n",
       " Text(0, 10.5, 'K'),\n",
       " Text(0, 11.5, 'L'),\n",
       " Text(0, 12.5, 'M'),\n",
       " Text(0, 13.5, 'N'),\n",
       " Text(0, 14.5, 'O'),\n",
       " Text(0, 15.5, 'P'),\n",
       " Text(0, 16.5, 'Q'),\n",
       " Text(0, 17.5, 'R'),\n",
       " Text(0, 18.5, 'S'),\n",
       " Text(0, 19.5, 'T'),\n",
       " Text(0, 20.5, 'U'),\n",
       " Text(0, 21.5, 'V'),\n",
       " Text(0, 22.5, 'W'),\n",
       " Text(0, 23.5, 'X'),\n",
       " Text(0, 24.5, 'Y'),\n",
       " Text(0, 25.5, 'Z')]"
      ]
     },
     "execution_count": 22,
     "metadata": {},
     "output_type": "execute_result"
    },
    {
     "data": {
      "image/png": "[encoded data removed]",
      "text/plain": [
       "<Figure size 1080x1080 with 2 Axes>"
      ]
     },
     "metadata": {
      "needs_background": "light"
     },
     "output_type": "display_data"
    }
   ],
   "source": [
    "fig, ax = plt.subplots(figsize=(15, 15))\n",
    "\n",
    "ax = sns.heatmap(cm, annot=True, fmt='g')\n",
    "ax.set_title('Confusion Matrix')\n",
    "ax.set_xlabel('Predicted')\n",
    "ax.set_ylabel('True')\n",
    "ax.xaxis.set_ticklabels(['A','B','C','D','E','F','G','H','I','J','K','L','M','N','O','P','Q','R','S','T','U','V','W','X','Y','Z'])\n",
    "ax.yaxis.set_ticklabels(['A','B','C','D','E','F','G','H','I','J','K','L','M','N','O','P','Q','R','S','T','U','V','W','X','Y','Z'])\n"
   ]
  },
  {
   "cell_type": "code",
   "execution_count": 23,
   "id": "2ccded14",
   "metadata": {
    "execution": {
     "iopub.execute_input": "2022-05-08T23:40:40.729425Z",
     "iopub.status.busy": "2022-05-08T23:40:40.729103Z",
     "iopub.status.idle": "2022-05-08T23:40:40.735351Z",
     "shell.execute_reply": "2022-05-08T23:40:40.734450Z"
    },
    "papermill": {
     "duration": 0.068578,
     "end_time": "2022-05-08T23:40:40.737357",
     "exception": false,
     "start_time": "2022-05-08T23:40:40.668779",
     "status": "completed"
    },
    "tags": []
   },
   "outputs": [
    {
     "data": {
      "text/plain": [
       "array(['Y', 'B', 'K', ..., 'A', 'O', 'I'], dtype=object)"
      ]
     },
     "execution_count": 23,
     "metadata": {},
     "output_type": "execute_result"
    }
   ],
   "source": [
    "y_test.values"
   ]
  },
  {
   "cell_type": "code",
   "execution_count": 24,
   "id": "f6c8dae0",
   "metadata": {
    "execution": {
     "iopub.execute_input": "2022-05-08T23:40:40.858452Z",
     "iopub.status.busy": "2022-05-08T23:40:40.858133Z",
     "iopub.status.idle": "2022-05-08T23:40:40.906613Z",
     "shell.execute_reply": "2022-05-08T23:40:40.905596Z"
    },
    "papermill": {
     "duration": 0.111971,
     "end_time": "2022-05-08T23:40:40.908848",
     "exception": false,
     "start_time": "2022-05-08T23:40:40.796877",
     "status": "completed"
    },
    "tags": []
   },
   "outputs": [
    {
     "name": "stdout",
     "output_type": "stream",
     "text": [
      "0.9562811813461886\n"
     ]
    }
   ],
   "source": [
    "\n",
    "from sklearn.metrics import recall_score\n",
    "\n",
    "# calculate recall\n",
    "recall = recall_score(y_test, y_pred_test, average='macro')\n",
    "print(recall)\n"
   ]
  }
 ],
 "metadata": {
  "kernelspec": {
   "display_name": "Python 3",
   "language": "python",
   "name": "python3"
  },
  "language_info": {
   "codemirror_mode": {
    "name": "ipython",
    "version": 3
   },
   "file_extension": ".py",
   "mimetype": "text/x-python",
   "name": "python",
   "nbconvert_exporter": "python",
   "pygments_lexer": "ipython3",
   "version": "3.7.12"
  },
  "papermill": {
   "default_parameters": {},
   "duration": 74.257138,
   "end_time": "2022-05-08T23:40:44.014308",
   "environment_variables": {},
   "exception": null,
   "input_path": "__notebook__.ipynb",
   "output_path": "__notebook__.ipynb",
   "parameters": {},
   "start_time": "2022-05-08T23:39:29.757170",
   "version": "2.3.4"
  }
 },
 "nbformat": 4,
 "nbformat_minor": 5
}
