{
 "cells": [
  {
   "cell_type": "code",
   "execution_count": 1,
   "id": "02361080",
   "metadata": {
    "_cell_guid": "b1076dfc-b9ad-4769-8c92-a6c4dae69d19",
    "_uuid": "8f2839f25d086af736a60e9eeb907d3b93b6e0e5",
    "execution": {
     "iopub.execute_input": "2024-05-01T15:55:32.067611Z",
     "iopub.status.busy": "2024-05-01T15:55:32.067056Z",
     "iopub.status.idle": "2024-05-01T15:55:33.090064Z",
     "shell.execute_reply": "2024-05-01T15:55:33.087956Z"
    },
    "papermill": {
     "duration": 1.032829,
     "end_time": "2024-05-01T15:55:33.093047",
     "exception": false,
     "start_time": "2024-05-01T15:55:32.060218",
     "status": "completed"
    },
    "tags": []
   },
   "outputs": [
    {
     "name": "stdout",
     "output_type": "stream",
     "text": [
      "/kaggle/input/car-price-prediction/CarPrice_Assignment.csv\n",
      "/kaggle/input/car-price-prediction/Data Dictionary - carprices.xlsx\n"
     ]
    }
   ],
   "source": [
    "import numpy as np # linear algebra\n",
    "import pandas as pd # data processing, CSV file I/O (e.g. pd.read_csv)\n",
    "\n",
    "import os\n",
    "for dirname, _, filenames in os.walk('/kaggle/input'):\n",
    "    for filename in filenames:\n",
    "        print(os.path.join(dirname, filename))"
   ]
  },
  {
   "cell_type": "code",
   "execution_count": 2,
   "id": "84debbf6",
   "metadata": {
    "execution": {
     "iopub.execute_input": "2024-05-01T15:55:33.103909Z",
     "iopub.status.busy": "2024-05-01T15:55:33.103324Z",
     "iopub.status.idle": "2024-05-01T15:55:34.671432Z",
     "shell.execute_reply": "2024-05-01T15:55:34.670408Z"
    },
    "papermill": {
     "duration": 1.576815,
     "end_time": "2024-05-01T15:55:34.674473",
     "exception": false,
     "start_time": "2024-05-01T15:55:33.097658",
     "status": "completed"
    },
    "tags": []
   },
   "outputs": [],
   "source": [
    "import pandas as pd\n",
    "import numpy as np\n",
    "from matplotlib import pyplot as plt\n",
    "from sklearn.model_selection import train_test_split\n",
    "from sklearn.linear_model import LinearRegression\n",
    "from sklearn.metrics import mean_squared_error, r2_score\n",
    "from sklearn.preprocessing import OneHotEncoder"
   ]
  },
  {
   "cell_type": "code",
   "execution_count": 3,
   "id": "e5d45e0d",
   "metadata": {
    "execution": {
     "iopub.execute_input": "2024-05-01T15:55:34.685515Z",
     "iopub.status.busy": "2024-05-01T15:55:34.684804Z",
     "iopub.status.idle": "2024-05-01T15:55:34.737428Z",
     "shell.execute_reply": "2024-05-01T15:55:34.736038Z"
    },
    "papermill": {
     "duration": 0.061587,
     "end_time": "2024-05-01T15:55:34.740295",
     "exception": false,
     "start_time": "2024-05-01T15:55:34.678708",
     "status": "completed"
    },
    "tags": []
   },
   "outputs": [],
   "source": [
    "data = pd.read_csv('/kaggle/input/car-price-prediction/CarPrice_Assignment.csv')\n",
    "data = data.drop('CarName',axis=1)\n",
    "x = data.drop(['price'],axis = 1)\n",
    "y = data['price']\n",
    "categorical_columns = ['fueltype','aspiration','doornumber','carbody','drivewheel','enginelocation','enginetype',\n",
    "    'cylindernumber',\n",
    "    'fuelsystem'\n",
    "]\n",
    "X_encoded = pd.get_dummies(data[categorical_columns], drop_first=True)  # drop_first to avoid dummy variable trap"
   ]
  },
  {
   "cell_type": "code",
   "execution_count": 4,
   "id": "ba54598e",
   "metadata": {
    "execution": {
     "iopub.execute_input": "2024-05-01T15:55:34.750109Z",
     "iopub.status.busy": "2024-05-01T15:55:34.749706Z",
     "iopub.status.idle": "2024-05-01T15:55:34.761017Z",
     "shell.execute_reply": "2024-05-01T15:55:34.759661Z"
    },
    "papermill": {
     "duration": 0.019526,
     "end_time": "2024-05-01T15:55:34.763840",
     "exception": false,
     "start_time": "2024-05-01T15:55:34.744314",
     "status": "completed"
    },
    "tags": []
   },
   "outputs": [],
   "source": [
    "X_train,X_test,y_train, y_test = train_test_split(X_encoded, y, random_state  = 42, test_size = 0.2, shuffle = False)"
   ]
  },
  {
   "cell_type": "code",
   "execution_count": 5,
   "id": "0fc0767b",
   "metadata": {
    "execution": {
     "iopub.execute_input": "2024-05-01T15:55:34.774262Z",
     "iopub.status.busy": "2024-05-01T15:55:34.773811Z",
     "iopub.status.idle": "2024-05-01T15:55:34.814436Z",
     "shell.execute_reply": "2024-05-01T15:55:34.813006Z"
    },
    "papermill": {
     "duration": 0.049117,
     "end_time": "2024-05-01T15:55:34.817261",
     "exception": false,
     "start_time": "2024-05-01T15:55:34.768144",
     "status": "completed"
    },
    "tags": []
   },
   "outputs": [
    {
     "data": {
      "text/html": [
       "<style>#sk-container-id-1 {color: black;background-color: white;}#sk-container-id-1 pre{padding: 0;}#sk-container-id-1 div.sk-toggleable {background-color: white;}#sk-container-id-1 label.sk-toggleable__label {cursor: pointer;display: block;width: 100%;margin-bottom: 0;padding: 0.3em;box-sizing: border-box;text-align: center;}#sk-container-id-1 label.sk-toggleable__label-arrow:before {content: \"▸\";float: left;margin-right: 0.25em;color: #696969;}#sk-container-id-1 label.sk-toggleable__label-arrow:hover:before {color: black;}#sk-container-id-1 div.sk-estimator:hover label.sk-toggleable__label-arrow:before {color: black;}#sk-container-id-1 div.sk-toggleable__content {max-height: 0;max-width: 0;overflow: hidden;text-align: left;background-color: #f0f8ff;}#sk-container-id-1 div.sk-toggleable__content pre {margin: 0.2em;color: black;border-radius: 0.25em;background-color: #f0f8ff;}#sk-container-id-1 input.sk-toggleable__control:checked~div.sk-toggleable__content {max-height: 200px;max-width: 100%;overflow: auto;}#sk-container-id-1 input.sk-toggleable__control:checked~label.sk-toggleable__label-arrow:before {content: \"▾\";}#sk-container-id-1 div.sk-estimator input.sk-toggleable__control:checked~label.sk-toggleable__label {background-color: #d4ebff;}#sk-container-id-1 div.sk-label input.sk-toggleable__control:checked~label.sk-toggleable__label {background-color: #d4ebff;}#sk-container-id-1 input.sk-hidden--visually {border: 0;clip: rect(1px 1px 1px 1px);clip: rect(1px, 1px, 1px, 1px);height: 1px;margin: -1px;overflow: hidden;padding: 0;position: absolute;width: 1px;}#sk-container-id-1 div.sk-estimator {font-family: monospace;background-color: #f0f8ff;border: 1px dotted black;border-radius: 0.25em;box-sizing: border-box;margin-bottom: 0.5em;}#sk-container-id-1 div.sk-estimator:hover {background-color: #d4ebff;}#sk-container-id-1 div.sk-parallel-item::after {content: \"\";width: 100%;border-bottom: 1px solid gray;flex-grow: 1;}#sk-container-id-1 div.sk-label:hover label.sk-toggleable__label {background-color: #d4ebff;}#sk-container-id-1 div.sk-serial::before {content: \"\";position: absolute;border-left: 1px solid gray;box-sizing: border-box;top: 0;bottom: 0;left: 50%;z-index: 0;}#sk-container-id-1 div.sk-serial {display: flex;flex-direction: column;align-items: center;background-color: white;padding-right: 0.2em;padding-left: 0.2em;position: relative;}#sk-container-id-1 div.sk-item {position: relative;z-index: 1;}#sk-container-id-1 div.sk-parallel {display: flex;align-items: stretch;justify-content: center;background-color: white;position: relative;}#sk-container-id-1 div.sk-item::before, #sk-container-id-1 div.sk-parallel-item::before {content: \"\";position: absolute;border-left: 1px solid gray;box-sizing: border-box;top: 0;bottom: 0;left: 50%;z-index: -1;}#sk-container-id-1 div.sk-parallel-item {display: flex;flex-direction: column;z-index: 1;position: relative;background-color: white;}#sk-container-id-1 div.sk-parallel-item:first-child::after {align-self: flex-end;width: 50%;}#sk-container-id-1 div.sk-parallel-item:last-child::after {align-self: flex-start;width: 50%;}#sk-container-id-1 div.sk-parallel-item:only-child::after {width: 0;}#sk-container-id-1 div.sk-dashed-wrapped {border: 1px dashed gray;margin: 0 0.4em 0.5em 0.4em;box-sizing: border-box;padding-bottom: 0.4em;background-color: white;}#sk-container-id-1 div.sk-label label {font-family: monospace;font-weight: bold;display: inline-block;line-height: 1.2em;}#sk-container-id-1 div.sk-label-container {text-align: center;}#sk-container-id-1 div.sk-container {/* jupyter's `normalize.less` sets `[hidden] { display: none; }` but bootstrap.min.css set `[hidden] { display: none !important; }` so we also need the `!important` here to be able to override the default hidden behavior on the sphinx rendered scikit-learn.org. See: https://github.com/scikit-learn/scikit-learn/issues/21755 */display: inline-block !important;position: relative;}#sk-container-id-1 div.sk-text-repr-fallback {display: none;}</style><div id=\"sk-container-id-1\" class=\"sk-top-container\"><div class=\"sk-text-repr-fallback\"><pre>LinearRegression()</pre><b>In a Jupyter environment, please rerun this cell to show the HTML representation or trust the notebook. <br />On GitHub, the HTML representation is unable to render, please try loading this page with nbviewer.org.</b></div><div class=\"sk-container\" hidden><div class=\"sk-item\"><div class=\"sk-estimator sk-toggleable\"><input class=\"sk-toggleable__control sk-hidden--visually\" id=\"sk-estimator-id-1\" type=\"checkbox\" checked><label for=\"sk-estimator-id-1\" class=\"sk-toggleable__label sk-toggleable__label-arrow\">LinearRegression</label><div class=\"sk-toggleable__content\"><pre>LinearRegression()</pre></div></div></div></div></div>"
      ],
      "text/plain": [
       "LinearRegression()"
      ]
     },
     "execution_count": 5,
     "metadata": {},
     "output_type": "execute_result"
    }
   ],
   "source": [
    "model = LinearRegression()\n",
    "model.fit(X_train, y_train)"
   ]
  },
  {
   "cell_type": "code",
   "execution_count": 6,
   "id": "7445c3e6",
   "metadata": {
    "execution": {
     "iopub.execute_input": "2024-05-01T15:55:34.827940Z",
     "iopub.status.busy": "2024-05-01T15:55:34.827474Z",
     "iopub.status.idle": "2024-05-01T15:55:34.837572Z",
     "shell.execute_reply": "2024-05-01T15:55:34.836426Z"
    },
    "papermill": {
     "duration": 0.018618,
     "end_time": "2024-05-01T15:55:34.840280",
     "exception": false,
     "start_time": "2024-05-01T15:55:34.821662",
     "status": "completed"
    },
    "tags": []
   },
   "outputs": [],
   "source": [
    "y_pred = model.predict(X_test)"
   ]
  },
  {
   "cell_type": "code",
   "execution_count": 7,
   "id": "54c8a2cd",
   "metadata": {
    "execution": {
     "iopub.execute_input": "2024-05-01T15:55:34.851152Z",
     "iopub.status.busy": "2024-05-01T15:55:34.850729Z",
     "iopub.status.idle": "2024-05-01T15:55:34.859758Z",
     "shell.execute_reply": "2024-05-01T15:55:34.858207Z"
    },
    "papermill": {
     "duration": 0.017645,
     "end_time": "2024-05-01T15:55:34.862502",
     "exception": false,
     "start_time": "2024-05-01T15:55:34.844857",
     "status": "completed"
    },
    "tags": []
   },
   "outputs": [
    {
     "name": "stdout",
     "output_type": "stream",
     "text": [
      "Mean Squared Error: 46003317.609363355\n",
      "R-squared: -1.5565201871400802\n"
     ]
    }
   ],
   "source": [
    "#Evaluation\n",
    "mse = mean_squared_error(y_test, y_pred)\n",
    "r2 = r2_score(y_test, y_pred)\n",
    "\n",
    "print(\"Mean Squared Error:\", mse)\n",
    "print(\"R-squared:\", r2)"
   ]
  },
  {
   "cell_type": "code",
   "execution_count": 8,
   "id": "2fb95530",
   "metadata": {
    "execution": {
     "iopub.execute_input": "2024-05-01T15:55:34.873484Z",
     "iopub.status.busy": "2024-05-01T15:55:34.873027Z",
     "iopub.status.idle": "2024-05-01T15:55:35.397828Z",
     "shell.execute_reply": "2024-05-01T15:55:35.396310Z"
    },
    "papermill": {
     "duration": 0.533939,
     "end_time": "2024-05-01T15:55:35.400944",
     "exception": false,
     "start_time": "2024-05-01T15:55:34.867005",
     "status": "completed"
    },
    "tags": []
   },
   "outputs": [
    {
     "data": {
      "image/png": "[encoded data removed]",
      "text/plain": [
       "<Figure size 640x480 with 1 Axes>"
      ]
     },
     "metadata": {},
     "output_type": "display_data"
    }
   ],
   "source": [
    "import matplotlib.pyplot as plt\n",
    "\n",
    "# Scatter plot of actual vs. predicted values\n",
    "plt.scatter(y_test, y_pred, color='blue', label='Actual vs. Predicted')\n",
    "plt.plot([y_test.min(), y_test.max()], [y_test.min(), y_test.max()], 'k--', lw=2, label='Ideal line')\n",
    "plt.xlabel('Actual values')\n",
    "plt.ylabel('Predicted values')\n",
    "plt.title('Actual vs. Predicted values (Multiple Linear Regression)')\n",
    "plt.legend()\n",
    "plt.show()\n"
   ]
  }
 ],
 "metadata": {
  "kaggle": {
   "accelerator": "none",
   "dataSources": [
    {
     "datasetId": 383055,
     "sourceId": 741735,
     "sourceType": "datasetVersion"
    }
   ],
   "dockerImageVersionId": 30698,
   "isGpuEnabled": false,
   "isInternetEnabled": true,
   "language": "python",
   "sourceType": "notebook"
  },
  "kernelspec": {
   "display_name": "Python 3",
   "language": "python",
   "name": "python3"
  },
  "language_info": {
   "codemirror_mode": {
    "name": "ipython",
    "version": 3
   },
   "file_extension": ".py",
   "mimetype": "text/x-python",
   "name": "python",
   "nbconvert_exporter": "python",
   "pygments_lexer": "ipython3",
   "version": "3.10.13"
  },
  "papermill": {
   "default_parameters": {},
   "duration": 7.305393,
   "end_time": "2024-05-01T15:55:36.128733",
   "environment_variables": {},
   "exception": null,
   "input_path": "__notebook__.ipynb",
   "output_path": "__notebook__.ipynb",
   "parameters": {},
   "start_time": "2024-05-01T15:55:28.823340",
   "version": "2.5.0"
  }
 },
 "nbformat": 4,
 "nbformat_minor": 5
}
